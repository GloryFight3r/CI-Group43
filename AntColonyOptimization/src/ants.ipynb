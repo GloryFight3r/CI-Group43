{
 "cells": [
  {
   "cell_type": "code",
   "execution_count": 7,
   "metadata": {},
   "outputs": [
    {
     "name": "stdout",
     "output_type": "stream",
     "text": [
      "Ready reading maze file ./../data/easy_maze.txt\n",
      "[1. 1. 1. ... 1. 1. 1.]\n",
      "[1. 1. 1. 1.]\n",
      "This is the path : \n",
      "3;\n",
      "3;\n",
      "3;\n",
      "0;\n",
      "3;\n",
      "3;\n",
      "0;\n",
      "0;\n",
      "1;\n",
      "1;\n",
      "0;\n",
      "0;\n",
      "3;\n",
      "3;\n",
      "0;\n",
      "0;\n",
      "1;\n",
      "1;\n",
      "0;\n",
      "1;\n",
      "1;\n",
      "1;\n",
      "2;\n",
      "2;\n",
      "2;\n",
      "2;\n",
      "\n"
     ]
    },
    {
     "data": {
      "text/plain": [
       "'\\nspec = PathSpecification.read_coordinates(\"./../data/hard_coordinates.txt\")\\naco = AntColonyOptimization(maze, gen, no_gen, q, evap)\\n\\n# Save starting time\\nstart_time = int(round(time.time() * 1000))\\n\\n# Run optimization\\nshortest_route = aco.find_shortest_route(spec)\\n\\n# Print time taken\\nprint(\"Time taken: \" + str((int(round(time.time() * 1000)) - start_time) / 1000.0))\\n\\n# Save solution\\nshortest_route.write_to_file(\"./../data/hard_solution.txt\")\\n\\n# Print route size\\nprint(\"Route size: \" + str(shortest_route.size()))\\n'"
      ]
     },
     "execution_count": 7,
     "metadata": {},
     "output_type": "execute_result"
    }
   ],
   "source": [
    "import time\n",
    "\n",
    "from AntColonyOptimization import AntColonyOptimization\n",
    "from Maze import Maze\n",
    "from Route import Route\n",
    "from Direction import Direction\n",
    "from Coordinate import Coordinate\n",
    "from PathSpecification import PathSpecification\n",
    "from TSPData import TSPData\n",
    "from Ant import Ant\n",
    "from AntColonyOptimization import AntColonyOptimization\n",
    "\n",
    "# Please keep your parameters for the ACO easily changeable here\n",
    "gen = 1\n",
    "no_gen = 1\n",
    "q = 1600\n",
    "evap = 0.1\n",
    "\n",
    "# Construct the optimization objects\n",
    "maze = Maze.create_maze(\"./../data/easy_maze.txt\")\n",
    "print(maze.pheromones_matrix)\n",
    "# define things for debug\n",
    "r = Route(Coordinate(0, 0))\n",
    "walk = [Direction.south]\n",
    "for e in walk:\n",
    "\tr.add(e)\n",
    "#maze.add_pheromone_route(r ,100)\n",
    "#maze.evaporate(evap)\n",
    "\n",
    "spec = PathSpecification(Coordinate(0, 0),Coordinate(4, 0))\n",
    "\n",
    "print(maze.get_surrounding_pheromone(spec.start))\n",
    "#ant = Ant(maze,spec)\n",
    "\n",
    "opt = AntColonyOptimization(maze,1,3,100,0.1)\n",
    "\n",
    "print(\"This is the path : \")\n",
    "print(opt.find_shortest_route(spec))\n",
    "\n",
    "'''\n",
    "spec = PathSpecification.read_coordinates(\"./../data/hard_coordinates.txt\")\n",
    "aco = AntColonyOptimization(maze, gen, no_gen, q, evap)\n",
    "\n",
    "# Save starting time\n",
    "start_time = int(round(time.time() * 1000))\n",
    "\n",
    "# Run optimization\n",
    "shortest_route = aco.find_shortest_route(spec)\n",
    "\n",
    "# Print time taken\n",
    "print(\"Time taken: \" + str((int(round(time.time() * 1000)) - start_time) / 1000.0))\n",
    "\n",
    "# Save solution\n",
    "shortest_route.write_to_file(\"./../data/hard_solution.txt\")\n",
    "\n",
    "# Print route size\n",
    "print(\"Route size: \" + str(shortest_route.size()))\n",
    "'''"
   ]
  },
  {
   "cell_type": "code",
   "execution_count": 2,
   "metadata": {},
   "outputs": [
    {
     "data": {
      "text/plain": [
       "1"
      ]
     },
     "execution_count": 2,
     "metadata": {},
     "output_type": "execute_result"
    }
   ],
   "source": [
    "Direction.dir_to_int(Direction.north)"
   ]
  },
  {
   "cell_type": "markdown",
   "metadata": {},
   "source": []
  }
 ],
 "metadata": {
  "kernelspec": {
   "display_name": "Python 3.11.0 64-bit",
   "language": "python",
   "name": "python3"
  },
  "language_info": {
   "codemirror_mode": {
    "name": "ipython",
    "version": 3
   },
   "file_extension": ".py",
   "mimetype": "text/x-python",
   "name": "python",
   "nbconvert_exporter": "python",
   "pygments_lexer": "ipython3",
   "version": "3.11.0"
  },
  "orig_nbformat": 4,
  "vscode": {
   "interpreter": {
    "hash": "5c7b89af1651d0b8571dde13640ecdccf7d5a6204171d6ab33e7c296e100e08a"
   }
  }
 },
 "nbformat": 4,
 "nbformat_minor": 2
}
