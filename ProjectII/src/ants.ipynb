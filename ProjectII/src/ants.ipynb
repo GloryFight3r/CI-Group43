{
 "cells": [
  {
   "cell_type": "code",
   "execution_count": 1,
   "metadata": {},
   "outputs": [
    {
     "name": "stdout",
     "output_type": "stream",
     "text": [
      "Ready reading maze file ./../data/easy_maze.txt\n",
      "[[0. 1. 0. ... 0. 0. 0.]\n",
      " [1. 0. 1. ... 0. 0. 0.]\n",
      " [0. 1. 0. ... 0. 0. 0.]\n",
      " ...\n",
      " [0. 0. 0. ... 0. 1. 0.]\n",
      " [0. 0. 0. ... 1. 0. 1.]\n",
      " [0. 0. 0. ... 0. 1. 0.]]\n",
      "[]\n",
      "[(0, 3), (0, 4)]\n"
     ]
    },
    {
     "data": {
      "text/plain": [
       "'\\nspec = PathSpecification.read_coordinates(\"./../data/hard_coordinates.txt\")\\naco = AntColonyOptimization(maze, gen, no_gen, q, evap)\\n\\n# Save starting time\\nstart_time = int(round(time.time() * 1000))\\n\\n# Run optimization\\nshortest_route = aco.find_shortest_route(spec)\\n\\n# Print time taken\\nprint(\"Time taken: \" + str((int(round(time.time() * 1000)) - start_time) / 1000.0))\\n\\n# Save solution\\nshortest_route.write_to_file(\"./../data/hard_solution.txt\")\\n\\n# Print route size\\nprint(\"Route size: \" + str(shortest_route.size()))\\n'"
      ]
     },
     "execution_count": 1,
     "metadata": {},
     "output_type": "execute_result"
    }
   ],
   "source": [
    "import time\n",
    "\n",
    "from AntColonyOptimization import AntColonyOptimization\n",
    "from Maze import Maze\n",
    "from Route import Route\n",
    "from Direction import Direction\n",
    "from Coordinate import Coordinate\n",
    "from PathSpecification import PathSpecification\n",
    "from TSPData import TSPData\n",
    "\n",
    "# Please keep your parameters for the ACO easily changeable here\n",
    "gen = 1\n",
    "no_gen = 1\n",
    "q = 1600\n",
    "evap = 0.1\n",
    "\n",
    "# Construct the optimization objects\n",
    "maze = Maze.create_maze(\"./../data/easy_maze.txt\")\n",
    "# define things for debug\n",
    "r = Route(Coordinate(0, 3))\n",
    "walk = [Direction.south]\n",
    "for e in walk:\n",
    "\tr.add(e)\n",
    "maze.add_pheromone_route(r ,100)\n",
    "'''\n",
    "spec = PathSpecification.read_coordinates(\"./../data/hard_coordinates.txt\")\n",
    "aco = AntColonyOptimization(maze, gen, no_gen, q, evap)\n",
    "\n",
    "# Save starting time\n",
    "start_time = int(round(time.time() * 1000))\n",
    "\n",
    "# Run optimization\n",
    "shortest_route = aco.find_shortest_route(spec)\n",
    "\n",
    "# Print time taken\n",
    "print(\"Time taken: \" + str((int(round(time.time() * 1000)) - start_time) / 1000.0))\n",
    "\n",
    "# Save solution\n",
    "shortest_route.write_to_file(\"./../data/hard_solution.txt\")\n",
    "\n",
    "# Print route size\n",
    "print(\"Route size: \" + str(shortest_route.size()))\n",
    "'''"
   ]
  }
 ],
 "metadata": {
  "kernelspec": {
   "display_name": "Python 3",
   "language": "python",
   "name": "python3"
  },
  "language_info": {
   "codemirror_mode": {
    "name": "ipython",
    "version": 3
   },
   "file_extension": ".py",
   "mimetype": "text/x-python",
   "name": "python",
   "nbconvert_exporter": "python",
   "pygments_lexer": "ipython3",
   "version": "3.10.9"
  },
  "orig_nbformat": 4,
  "vscode": {
   "interpreter": {
    "hash": "767d51c1340bd893661ea55ea3124f6de3c7a262a8b4abca0554b478b1e2ff90"
   }
  }
 },
 "nbformat": 4,
 "nbformat_minor": 2
}
