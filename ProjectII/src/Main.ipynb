{
 "cells": [
  {
   "cell_type": "code",
   "execution_count": 1,
   "metadata": {},
   "outputs": [],
   "source": [
    "import time\n",
    "\n",
    "from AntColonyOptimization import AntColonyOptimization\n",
    "from GeneticAlgorithm import GeneticAlgorithm\n",
    "from Maze import Maze\n",
    "from PathSpecification import PathSpecification\n",
    "from TSPData import TSPData"
   ]
  },
  {
   "cell_type": "markdown",
   "metadata": {},
   "source": [
    "### Part 1: The Travelling Robot Problem"
   ]
  },
  {
   "cell_type": "code",
   "execution_count": 2,
   "metadata": {},
   "outputs": [
    {
     "ename": "IndexError",
     "evalue": "list index out of range",
     "output_type": "error",
     "traceback": [
      "\u001b[0;31m---------------------------------------------------------------------------\u001b[0m",
      "\u001b[0;31mIndexError\u001b[0m                                Traceback (most recent call last)",
      "Cell \u001b[0;32mIn[2], line 12\u001b[0m\n\u001b[1;32m     10\u001b[0m \u001b[39m# Run optimzation and write to file\u001b[39;00m\n\u001b[1;32m     11\u001b[0m solution \u001b[39m=\u001b[39m ga\u001b[39m.\u001b[39msolve_tsp(tsp_data)\n\u001b[0;32m---> 12\u001b[0m tsp_data\u001b[39m.\u001b[39;49mwrite_action_file(solution, \u001b[39m\"\u001b[39;49m\u001b[39m./../data/tsp_solution.txt\u001b[39;49m\u001b[39m\"\u001b[39;49m)\n",
      "File \u001b[0;32m~/group-43/ProjectII/src/TSPData.py:86\u001b[0m, in \u001b[0;36mTSPData.write_action_file\u001b[0;34m(self, product_order, file_path)\u001b[0m\n\u001b[1;32m     85\u001b[0m \u001b[39mdef\u001b[39;00m \u001b[39mwrite_action_file\u001b[39m(\u001b[39mself\u001b[39m, product_order, file_path):\n\u001b[0;32m---> 86\u001b[0m     total_length \u001b[39m=\u001b[39m \u001b[39mself\u001b[39m\u001b[39m.\u001b[39mstart_distances[product_order[\u001b[39m0\u001b[39;49m]]\n\u001b[1;32m     87\u001b[0m     \u001b[39mfor\u001b[39;00m i \u001b[39min\u001b[39;00m \u001b[39mrange\u001b[39m(\u001b[39mlen\u001b[39m(product_order) \u001b[39m-\u001b[39m \u001b[39m1\u001b[39m):\n\u001b[1;32m     88\u001b[0m         frm \u001b[39m=\u001b[39m product_order[i]\n",
      "\u001b[0;31mIndexError\u001b[0m: list index out of range"
     ]
    }
   ],
   "source": [
    "# Please keep your parameters for the Genetic Algorithm easily changeable here\n",
    "population_size = 20\n",
    "generations = 20\n",
    "persist_file = \"./../data/optimal_tsp\"\n",
    "\n",
    "# Setup optimization\n",
    "tsp_data = TSPData.read_from_file(persist_file)\n",
    "ga = GeneticAlgorithm(generations, population_size)\n",
    "\n",
    "# Run optimzation and write to file\n",
    "solution = ga.solve_tsp(tsp_data)\n",
    "tsp_data.write_action_file(solution, \"./../data/tsp_solution.txt\")"
   ]
  },
  {
   "cell_type": "markdown",
   "metadata": {},
   "source": [
    "### Part 2: Path Finding Through Ant Colony Optimization"
   ]
  },
  {
   "cell_type": "code",
   "execution_count": 18,
   "metadata": {},
   "outputs": [
    {
     "name": "stdout",
     "output_type": "stream",
     "text": [
      "Ready reading maze file ./../data/medium_maze.txt\n",
      "Time taken: 116.812\n",
      "3;\n",
      "3;\n",
      "3;\n",
      "3;\n",
      "3;\n",
      "3;\n",
      "2;\n",
      "3;\n",
      "3;\n",
      "3;\n",
      "0;\n",
      "3;\n",
      "3;\n",
      "3;\n",
      "3;\n",
      "0;\n",
      "1;\n",
      "0;\n",
      "0;\n",
      "3;\n",
      "3;\n",
      "3;\n",
      "3;\n",
      "3;\n",
      "3;\n",
      "0;\n",
      "0;\n",
      "0;\n",
      "1;\n",
      "1;\n",
      "1;\n",
      "1;\n",
      "0;\n",
      "0;\n",
      "0;\n",
      "1;\n",
      "0;\n",
      "3;\n",
      "0;\n",
      "1;\n",
      "0;\n",
      "1;\n",
      "1;\n",
      "0;\n",
      "0;\n",
      "0;\n",
      "0;\n",
      "3;\n",
      "0;\n",
      "3;\n",
      "3;\n",
      "3;\n",
      "0;\n",
      "3;\n",
      "3;\n",
      "3;\n",
      "3;\n",
      "0;\n",
      "0;\n",
      "0;\n",
      "0;\n",
      "0;\n",
      "0;\n",
      "0;\n",
      "0;\n",
      "0;\n",
      "1;\n",
      "1;\n",
      "0;\n",
      "3;\n",
      "3;\n",
      "0;\n",
      "0;\n",
      "3;\n",
      "3;\n",
      "0;\n",
      "1;\n",
      "0;\n",
      "3;\n",
      "0;\n",
      "3;\n",
      "2;\n",
      "3;\n",
      "0;\n",
      "3;\n",
      "2;\n",
      "3;\n",
      "3;\n",
      "2;\n",
      "2;\n",
      "2;\n",
      "2;\n",
      "2;\n",
      "2;\n",
      "2;\n",
      "2;\n",
      "2;\n",
      "3;\n",
      "3;\n",
      "2;\n",
      "2;\n",
      "3;\n",
      "0;\n",
      "0;\n",
      "3;\n",
      "3;\n",
      "3;\n",
      "3;\n",
      "3;\n",
      "3;\n",
      "3;\n",
      "3;\n",
      "3;\n",
      "0;\n",
      "0;\n",
      "0;\n",
      "0;\n",
      "0;\n",
      "0;\n",
      "0;\n",
      "0;\n",
      "0;\n",
      "0;\n",
      "0;\n",
      "0;\n",
      "0;\n",
      "0;\n",
      "1;\n",
      "1;\n",
      "1;\n",
      "0;\n",
      "0;\n",
      "0;\n",
      "0;\n",
      "0;\n",
      "0;\n",
      "0;\n",
      "0;\n",
      "1;\n",
      "1;\n",
      "1;\n",
      "1;\n",
      "1;\n",
      "1;\n",
      "1;\n",
      "1;\n",
      "1;\n",
      "1;\n",
      "2;\n",
      "2;\n",
      "1;\n",
      "1;\n",
      "1;\n",
      "2;\n",
      "2;\n",
      "2;\n",
      "1;\n",
      "\n",
      "Route size: 157\n"
     ]
    }
   ],
   "source": [
    "import time\n",
    "\n",
    "from AntColonyOptimization import AntColonyOptimization\n",
    "from GeneticAlgorithm import GeneticAlgorithm\n",
    "from Maze import Maze\n",
    "from PathSpecification import PathSpecification\n",
    "from TSPData import TSPData\n",
    "# Please keep your parameters for the ACO easily changeable here\n",
    "gen = 2500\n",
    "no_gen = 20\n",
    "q = 1600\n",
    "evap = 0.2\n",
    "alpha = 0.3\n",
    "beta = 1\n",
    "random_start = 0\n",
    "toxic_start = 0.1\n",
    "convergance = 100\n",
    "\n",
    "# Construct the optimization objects\n",
    "maze = Maze.create_maze(\"./../data/medium_maze.txt\")\n",
    "spec = PathSpecification.read_coordinates(\"./../data/medium_coordinates.txt\")\n",
    "aco = AntColonyOptimization(maze, gen, no_gen, q, evap)\n",
    "\n",
    "# Save starting time\n",
    "start_time = int(round(time.time() * 1000))\n",
    "\n",
    "# Run optimization\n",
    "shortest_route, colony_history = aco.find_shortest_route(spec, alpha=alpha, beta=beta, random_start=random_start, toxic_start=toxic_start, convergence=convergance)\n",
    "\n",
    "# Print time taken\n",
    "print(\"Time taken: \" + str((int(round(time.time() * 1000)) - start_time) / 1000.0))\n",
    "\n",
    "# Save solution\n",
    "print(shortest_route)\n",
    "shortest_route.write_to_file(\"./../data/hard_solution.txt\")\n",
    "\n",
    "# Print route size\n",
    "print(\"Route size: \" + str(shortest_route.size()))"
   ]
  },
  {
   "cell_type": "code",
   "execution_count": 19,
   "metadata": {},
   "outputs": [
    {
     "data": {
      "image/png": "[encoded data removed]",
      "text/plain": [
       "<Figure size 640x480 with 1 Axes>"
      ]
     },
     "metadata": {},
     "output_type": "display_data"
    }
   ],
   "source": [
    "import matplotlib.pyplot as plt\n",
    "\n",
    "def plot_history(history):\n",
    "    plt.plot(range(1, history.generations + 1), history.shortest)\n",
    "\n",
    "plot_history(history=colony_history)"
   ]
  },
  {
   "cell_type": "markdown",
   "metadata": {},
   "source": [
    "### Synthesis"
   ]
  },
  {
   "cell_type": "code",
   "execution_count": 2,
   "metadata": {},
   "outputs": [
    {
     "name": "stdout",
     "output_type": "stream",
     "text": [
      "[0.3 3.  1.9]\n"
     ]
    }
   ],
   "source": [
    "import numpy as np\n",
    "\n",
    "print(np.minimum(np.array([1, 3, 2]), np.array([0.3, 4, 1.9])))"
   ]
  },
  {
   "cell_type": "code",
   "execution_count": null,
   "metadata": {},
   "outputs": [],
   "source": [
    "# Please keep your parameters for the synthesis part easily changeable here\n",
    "gen = 1\n",
    "no_gen = 1\n",
    "q = 1000\n",
    "evap = 0.1\n",
    "\n",
    "persist_file = \"./../tmp/my_tsp\"\n",
    "tsp_path = \"./../data/tsp_products.txt\"\n",
    "coordinates = \"./../data/hard_coordinates.txt\"\n",
    "\n",
    "# Construct optimization\n",
    "maze = Maze.create_maze(\"./../data/hard_maze.txt\")\n",
    "tsp_data = TSPData.read_specification(coordinates, tsp_path)\n",
    "aco = AntColonyOptimization(maze, gen, no_gen, q, evap)\n",
    "\n",
    "# Run optimization and write to file\n",
    "tsp_data.calculate_routes(aco)\n",
    "tsp_data.write_to_file(persist_file)\n",
    "\n",
    "# Read from file and print\n",
    "tsp_data2 = TSPData.read_from_file(persist_file)\n",
    "print(tsp_data == tsp_data2)\n",
    "\n",
    "# Solve TSP using your own paths file\n",
    "ga = GeneticAlgorithm(generations, population_size)\n",
    "solution = ga.solve_tsp(tsp_data2)\n",
    "tsp_data2.write_action_file(solution, \"./../data/tsp_solution.txt\")"
   ]
  }
 ],
 "metadata": {
  "kernelspec": {
   "display_name": "Python 3.11.0 64-bit",
   "language": "python",
   "name": "python3"
  },
  "language_info": {
   "codemirror_mode": {
    "name": "ipython",
    "version": 3
   },
   "file_extension": ".py",
   "mimetype": "text/x-python",
   "name": "python",
   "nbconvert_exporter": "python",
   "pygments_lexer": "ipython3",
   "version": "3.10.10"
  },
  "vscode": {
   "interpreter": {
    "hash": "5c7b89af1651d0b8571dde13640ecdccf7d5a6204171d6ab33e7c296e100e08a"
   }
  }
 },
 "nbformat": 4,
 "nbformat_minor": 2
}
