{
 "cells": [
  {
   "cell_type": "code",
   "execution_count": 1,
   "metadata": {},
   "outputs": [],
   "source": [
    "import time\n",
    "\n",
    "from AntColonyOptimization import AntColonyOptimization\n",
    "from GeneticAlgorithm import GeneticAlgorithm\n",
    "from Maze import Maze\n",
    "from PathSpecification import PathSpecification\n",
    "from TSPData import TSPData"
   ]
  },
  {
   "cell_type": "markdown",
   "metadata": {},
   "source": [
    "### Part 1: The Travelling Robot Problem"
   ]
  },
  {
   "cell_type": "code",
   "execution_count": 2,
   "metadata": {},
   "outputs": [
    {
     "name": "stdout",
     "output_type": "stream",
     "text": [
      "0, 0\n",
      "[0.03939088 0.08257155 0.1263494  0.17119528 0.21944049 0.26816804\n",
      " 0.31709082 0.36711608 0.41753181 0.46851027 0.51950021 0.57068538\n",
      " 0.62238734 0.67414672 0.72597501 0.77789517 0.83066517 0.8852267\n",
      " 0.94118931 1.        ]\n",
      "12 15\n"
     ]
    },
    {
     "ename": "AttributeError",
     "evalue": "'NoneType' object has no attribute 'is_legal'",
     "output_type": "error",
     "traceback": [
      "\u001b[0;31m---------------------------------------------------------------------------\u001b[0m",
      "\u001b[0;31mAttributeError\u001b[0m                            Traceback (most recent call last)",
      "Cell \u001b[0;32mIn[2], line 13\u001b[0m\n\u001b[1;32m     10\u001b[0m \u001b[39mprint\u001b[39m(tsp_data\u001b[39m.\u001b[39mspec\u001b[39m.\u001b[39mget_start())\n\u001b[1;32m     12\u001b[0m \u001b[39m# Run optimzation and write to file\u001b[39;00m\n\u001b[0;32m---> 13\u001b[0m solution \u001b[39m=\u001b[39m ga\u001b[39m.\u001b[39;49msolve_tsp(tsp_data)\n\u001b[1;32m     14\u001b[0m tsp_data\u001b[39m.\u001b[39mwrite_action_file(solution, \u001b[39m\"\u001b[39m\u001b[39m./../data/tsp_solution.txt\u001b[39m\u001b[39m\"\u001b[39m)\n",
      "File \u001b[0;32m~/Documents/CI Projects/Assignment 1/ProjectII/src/GeneticAlgorithm.py:123\u001b[0m, in \u001b[0;36mGeneticAlgorithm.solve_tsp\u001b[0;34m(self, tsp_data)\u001b[0m\n\u001b[1;32m    121\u001b[0m     \u001b[39m#print(fitness)\u001b[39;00m\n\u001b[1;32m    122\u001b[0m     fitness_ratio \u001b[39m=\u001b[39m fitness \u001b[39m/\u001b[39m np\u001b[39m.\u001b[39msum(fitness)\n\u001b[0;32m--> 123\u001b[0m     population \u001b[39m=\u001b[39m \u001b[39mself\u001b[39;49m\u001b[39m.\u001b[39;49mproduce_offspring(population, fitness_ratio, \u001b[39m0.0\u001b[39;49m, \u001b[39m0.0\u001b[39;49m)\n\u001b[1;32m    125\u001b[0m \u001b[39mreturn\u001b[39;00m []\n",
      "File \u001b[0;32m~/Documents/CI Projects/Assignment 1/ProjectII/src/GeneticAlgorithm.py:102\u001b[0m, in \u001b[0;36mGeneticAlgorithm.produce_offspring\u001b[0;34m(self, population, fitness_ratio, c_p, m_p)\u001b[0m\n\u001b[1;32m     99\u001b[0m second_candidate:Candidate \u001b[39m=\u001b[39m population[real_second_ind]\n\u001b[1;32m    101\u001b[0m new_offspring \u001b[39m=\u001b[39m first_candidate\u001b[39m.\u001b[39mproduce_offspring(second_candidate, c_p, m_p)\n\u001b[0;32m--> 102\u001b[0m \u001b[39mif\u001b[39;00m new_offspring\u001b[39m.\u001b[39;49mis_legal():\n\u001b[1;32m    103\u001b[0m     offspring\u001b[39m.\u001b[39mappend(new_offspring)\n\u001b[1;32m    104\u001b[0m     \u001b[39mbreak\u001b[39;00m\n",
      "\u001b[0;31mAttributeError\u001b[0m: 'NoneType' object has no attribute 'is_legal'"
     ]
    }
   ],
   "source": [
    "# Please keep your parameters for the Genetic Algorithm easily changeable here\n",
    "population_size = 20\n",
    "generations = 20\n",
    "persist_file = \"./../data/optimal_tsp\"\n",
    "\n",
    "# Setup optimization\n",
    "tsp_data = TSPData.read_from_file(persist_file)\n",
    "ga = GeneticAlgorithm(generations, population_size)\n",
    "\n",
    "print(tsp_data.spec.get_start())\n",
    "\n",
    "# Run optimzation and write to file\n",
    "solution = ga.solve_tsp(tsp_data)\n",
    "tsp_data.write_action_file(solution, \"./../data/tsp_solution.txt\")"
   ]
  },
  {
   "cell_type": "markdown",
   "metadata": {},
   "source": [
    "### Part 2: Path Finding Through Ant Colony Optimization"
   ]
  },
  {
   "cell_type": "code",
   "execution_count": null,
   "metadata": {},
   "outputs": [],
   "source": [
    "# Please keep your parameters for the ACO easily changeable here\n",
    "gen = 1\n",
    "no_gen = 1\n",
    "q = 1600\n",
    "evap = 0.1\n",
    "\n",
    "# Construct the optimization objects\n",
    "maze = Maze.create_maze(\"./../data/hard_maze.txt\")\n",
    "spec = PathSpecification.read_coordinates(\"./../data/hard_coordinates.txt\")\n",
    "aco = AntColonyOptimization(maze, gen, no_gen, q, evap)\n",
    "\n",
    "# Save starting time\n",
    "start_time = int(round(time.time() * 1000))\n",
    "\n",
    "# Run optimization\n",
    "shortest_route = aco.find_shortest_route(spec)\n",
    "\n",
    "# Print time taken\n",
    "print(\"Time taken: \" + str((int(round(time.time() * 1000)) - start_time) / 1000.0))\n",
    "\n",
    "# Save solution\n",
    "shortest_route.write_to_file(\"./../data/hard_solution.txt\")\n",
    "\n",
    "# Print route size\n",
    "print(\"Route size: \" + str(shortest_route.size()))"
   ]
  },
  {
   "cell_type": "markdown",
   "metadata": {},
   "source": [
    "### Synthesis"
   ]
  },
  {
   "cell_type": "code",
   "execution_count": null,
   "metadata": {},
   "outputs": [],
   "source": [
    "# Please keep your parameters for the synthesis part easily changeable here\n",
    "gen = 1\n",
    "no_gen = 1\n",
    "q = 1000\n",
    "evap = 0.1\n",
    "\n",
    "persist_file = \"./../tmp/my_tsp\"\n",
    "tsp_path = \"./../data/tsp_products.txt\"\n",
    "coordinates = \"./../data/hard_coordinates.txt\"\n",
    "\n",
    "# Construct optimization\n",
    "maze = Maze.create_maze(\"./../data/hard_maze.txt\")\n",
    "tsp_data = TSPData.read_specification(coordinates, tsp_path)\n",
    "aco = AntColonyOptimization(maze, gen, no_gen, q, evap)\n",
    "\n",
    "# Run optimization and write to file\n",
    "tsp_data.calculate_routes(aco)\n",
    "tsp_data.write_to_file(persist_file)\n",
    "\n",
    "# Read from file and print\n",
    "tsp_data2 = TSPData.read_from_file(persist_file)\n",
    "print(tsp_data == tsp_data2)\n",
    "\n",
    "# Solve TSP using your own paths file\n",
    "ga = GeneticAlgorithm(generations, population_size)\n",
    "solution = ga.solve_tsp(tsp_data2)\n",
    "tsp_data2.write_action_file(solution, \"./../data/tsp_solution.txt\")"
   ]
  }
 ],
 "metadata": {
  "kernelspec": {
   "display_name": "Python 3",
   "language": "python",
   "name": "python3"
  },
  "language_info": {
   "codemirror_mode": {
    "name": "ipython",
    "version": 3
   },
   "file_extension": ".py",
   "mimetype": "text/x-python",
   "name": "python",
   "nbconvert_exporter": "python",
   "pygments_lexer": "ipython3",
   "version": "3.10.9"
  },
  "vscode": {
   "interpreter": {
    "hash": "2469a70536e4d2335a2ea8907942d0699c37342a371ac185bdb5b0aa6f073890"
   }
  }
 },
 "nbformat": 4,
 "nbformat_minor": 2
}
