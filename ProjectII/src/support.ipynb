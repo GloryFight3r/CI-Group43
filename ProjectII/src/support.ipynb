{
 "cells": [
  {
   "cell_type": "code",
   "execution_count": 1,
   "metadata": {},
   "outputs": [],
   "source": [
    "import time\n",
    "\n",
    "from AntColonyOptimization import AntColonyOptimization\n",
    "from GeneticAlgorithm import GeneticAlgorithm\n",
    "from Maze import Maze\n",
    "from PathSpecification import PathSpecification\n",
    "from TSPData import TSPData"
   ]
  },
  {
   "cell_type": "markdown",
   "metadata": {},
   "source": [
    "### Part 1: The Travelling Robot Problem"
   ]
  },
  {
   "cell_type": "code",
   "execution_count": 2,
   "metadata": {},
   "outputs": [
    {
     "ename": "NameError",
     "evalue": "name 'TSPData' is not defined",
     "output_type": "error",
     "traceback": [
      "\u001b[0;31m---------------------------------------------------------------------------\u001b[0m",
      "\u001b[0;31mNameError\u001b[0m                                 Traceback (most recent call last)",
      "\u001b[1;32m/home/yk/Coding/ci/group-43/ProjectII/src/support.ipynb Cell 3\u001b[0m in \u001b[0;36m<cell line: 7>\u001b[0;34m()\u001b[0m\n\u001b[1;32m      <a href='vscode-notebook-cell:/home/yk/Coding/ci/group-43/ProjectII/src/support.ipynb#W2sZmlsZQ%3D%3D?line=3'>4</a>\u001b[0m persist_file \u001b[39m=\u001b[39m \u001b[39m\"\u001b[39m\u001b[39m./../data/optimal_tsp\u001b[39m\u001b[39m\"\u001b[39m\n\u001b[1;32m      <a href='vscode-notebook-cell:/home/yk/Coding/ci/group-43/ProjectII/src/support.ipynb#W2sZmlsZQ%3D%3D?line=5'>6</a>\u001b[0m \u001b[39m# Setup optimization\u001b[39;00m\n\u001b[0;32m----> <a href='vscode-notebook-cell:/home/yk/Coding/ci/group-43/ProjectII/src/support.ipynb#W2sZmlsZQ%3D%3D?line=6'>7</a>\u001b[0m tsp_data \u001b[39m=\u001b[39m TSPData\u001b[39m.\u001b[39mread_from_file(persist_file)\n\u001b[1;32m      <a href='vscode-notebook-cell:/home/yk/Coding/ci/group-43/ProjectII/src/support.ipynb#W2sZmlsZQ%3D%3D?line=7'>8</a>\u001b[0m ga \u001b[39m=\u001b[39m GeneticAlgorithm(generations, population_size)\n\u001b[1;32m     <a href='vscode-notebook-cell:/home/yk/Coding/ci/group-43/ProjectII/src/support.ipynb#W2sZmlsZQ%3D%3D?line=9'>10</a>\u001b[0m \u001b[39m# Run optimzation and write to file\u001b[39;00m\n",
      "\u001b[0;31mNameError\u001b[0m: name 'TSPData' is not defined"
     ]
    }
   ],
   "source": [
    "# Please keep your parameters for the Genetic Algorithm easily changeable here\n",
    "population_size = 20\n",
    "generations = 20\n",
    "persist_file = \"./../data/optimal_tsp\"\n",
    "\n",
    "# Setup optimization\n",
    "tsp_data = TSPData.read_from_file(persist_file)\n",
    "ga = GeneticAlgorithm(generations, population_size)\n",
    "\n",
    "# Run optimzation and write to file\n",
    "solution = ga.solve_tsp(tsp_data)\n",
    "tsp_data.write_action_file(solution, \"./../data/tsp_solution.txt\")"
   ]
  },
  {
   "cell_type": "markdown",
   "metadata": {},
   "source": [
    "### Part 2: Path Finding Through Ant Colony Optimization"
   ]
  },
  {
   "cell_type": "code",
   "execution_count": 8,
   "metadata": {},
   "outputs": [
    {
     "name": "stdout",
     "output_type": "stream",
     "text": [
      "Ready reading maze file ./../data/easy_maze.txt\n",
      "Time taken: 40.207\n",
      "0;\n",
      "0;\n",
      "0;\n",
      "0;\n",
      "0;\n",
      "0;\n",
      "0;\n",
      "0;\n",
      "0;\n",
      "0;\n",
      "3;\n",
      "3;\n",
      "3;\n",
      "0;\n",
      "0;\n",
      "0;\n",
      "0;\n",
      "0;\n",
      "0;\n",
      "0;\n",
      "0;\n",
      "0;\n",
      "0;\n",
      "0;\n",
      "0;\n",
      "0;\n",
      "0;\n",
      "3;\n",
      "3;\n",
      "3;\n",
      "3;\n",
      "3;\n",
      "3;\n",
      "3;\n",
      "3;\n",
      "3;\n",
      "3;\n",
      "3;\n",
      "\n",
      "Route size: 38\n"
     ]
    }
   ],
   "source": [
    "import time\n",
    "\n",
    "from AntColonyOptimization import AntColonyOptimization\n",
    "from GeneticAlgorithm import GeneticAlgorithm\n",
    "from Maze import Maze\n",
    "from PathSpecification import PathSpecification\n",
    "from TSPData import TSPData\n",
    "# Please keep your parameters for the ACO easily changeable here\n",
    "gen = 2000 # number of ants in the generation\n",
    "no_gen = 20 # number of generations\n",
    "q = 10 # pheromone constant to determine amount of pheromone ants drop after completing the route\n",
    "evap = 0.2 # evaporation constant\n",
    "alpha = 0.6 # when determining the probability of picking path with pheromones, every pheromone value is brought to power of alpha (pheromone ^ alpha * heuristic & beta / sum of(pheromone ^ alpha))\n",
    "random_start = 0 # portion of total generations, that will use random ant’s start positions \n",
    "toxic_start = 0.1 # portion of total generations, that will use dead-trails (look 2.4.15)\n",
    "convergence = 3 # if shortest route length stays the same for that many generations, stop the optimization\n",
    "alpha_ants = (0.2, 2) # parameters for stronger ants, first element indicates their number from the generation and the second one shoes how much additional pheromone they drop. In this case, they drop 2 additional doses, resulting in total of 2 doses dropped.\n",
    "\n",
    "\n",
    "# Construct the optimization objects\n",
    "maze = Maze.create_maze(\"./../data/easy_maze.txt\")\n",
    "spec = PathSpecification.read_coordinates(\"./../data/easy_coordinates.txt\")\n",
    "aco = AntColonyOptimization(maze, gen, no_gen, q, evap)\n",
    "\n",
    "# Save starting time\n",
    "start_time = int(round(time.time() * 1000))\n",
    "\n",
    "# Run optimization\n",
    "shortest_route, colony_history = aco.find_shortest_route(spec, alpha=alpha, random_start=random_start, toxic_start=toxic_start, convergence=convergence, alpha_ants=alpha_ants)\n",
    "\n",
    "# Print time taken\n",
    "print(\"Time taken: \" + str((int(round(time.time() * 1000)) - start_time) / 1000.0))\n",
    "\n",
    "# Save solution\n",
    "print(shortest_route)\n",
    "shortest_route.write_to_file(\"./../data/hard_solution.txt\")\n",
    "\n",
    "# Print route size\n",
    "print(\"Route size: \" + str(shortest_route.size()))"
   ]
  },
  {
   "cell_type": "code",
   "execution_count": 9,
   "metadata": {},
   "outputs": [
    {
     "name": "stdout",
     "output_type": "stream",
     "text": [
      "[116  50  38  38  38  -1  -1  -1  -1  -1  -1  -1  -1  -1  -1  -1  -1  -1\n",
      "  -1  -1]\n",
      "[116, 50, 38, 38, 38]\n"
     ]
    },
    {
     "data": {
      "image/png": "[encoded data removed]",
      "text/plain": [
       "<Figure size 432x288 with 1 Axes>"
      ]
     },
     "metadata": {
      "needs_background": "light"
     },
     "output_type": "display_data"
    }
   ],
   "source": [
    "import matplotlib.pyplot as plt\n",
    "\n",
    "def plot_history(history):\n",
    "    new_history = list(filter(lambda a: a != -1, history.shortest))\n",
    "    print(new_history)\n",
    "    ax1 = plt.plot(range(1, len(new_history) + 1), new_history)\n",
    "    plt.title(\"History of the shortest route length (q = 10)\")\n",
    "    plt.xlabel(\"Generation\")\n",
    "    plt.ylabel(\"Length of the shortest route\")\n",
    "print(colony_history.shortest)\n",
    "plot_history(history=colony_history)"
   ]
  },
  {
   "cell_type": "code",
   "execution_count": 41,
   "metadata": {},
   "outputs": [
    {
     "name": "stdout",
     "output_type": "stream",
     "text": [
      "[[ 20  20  20  20  20  20  20  20  20  20  20 100   0   0   0 100   0   0\n",
      "    0 100   0   0   0 100 100]\n",
      " [  0 100 100 100   0 100 100 100   0 100  20 100   0 100   0 100   0 100\n",
      "    0 100   0 100   0 100 100]\n",
      " [  0 100 100 100   0 100 100 100   0 100  20 100   0 100   0 100   0 100\n",
      "    0 100   0 100   0 100 100]\n",
      " [  0   0 100   0   0   0 100   0   0 100  20  20  20  20  20  20  20  20\n",
      "   20  20  20  20  20  20  20]\n",
      " [100   0 100   0 100   0 100   0 100 100 100 100 100 100 100 100   0 100\n",
      "    0 100   0 100   0 100  20]\n",
      " [  0   0   0   0 100   0   0   0 100 100 100 100   0   0   0 100   0 100\n",
      "    0 100   0 100   0 100  20]\n",
      " [  0 100 100 100 100 100 100 100 100 100 100 100   0 100 100 100   0   0\n",
      "    0 100   0   0   0 100  20]\n",
      " [  0   0   0   0   0   0   0   0   0   0   0 100   0   0   0 100 100   0\n",
      "  100 100 100 100   0 100  20]\n",
      " [100 100 100 100 100 100 100 100 100 100   0 100   0 100 100 100 100   0\n",
      "  100 100 100 100   0 100  20]\n",
      " [  0   0   0   0   0   0   0   0   0   0   0 100   0   0   0 100 100   0\n",
      "    0   0   0   0   0 100  20]\n",
      " [  0 100 100 100 100   0 100 100 100 100 100 100 100 100 100 100 100   0\n",
      "  100 100 100 100   0 100  20]\n",
      " [  0   0   0   0   0   0   0   0   0   0 100   0   0   0 100   0   0   0\n",
      "    0   0   0   0   0 100  20]\n",
      " [  0 100 100 100 100 100 100 100 100   0 100   0 100   0 100   0 100   0\n",
      "  100 100 100 100   0 100  20]\n",
      " [  0 100   0   0   0 100   0   0   0   0 100   0 100   0 100   0 100   0\n",
      "  100 100 100 100   0 100  20]\n",
      " [  0   0   0 100   0   0   0 100 100   0   0   0 100   0   0   0 100   0\n",
      "    0   0   0   0   0 100  20]]\n"
     ]
    },
    {
     "data": {
      "image/png": "[encoded data removed]",
      "text/plain": [
       "<Figure size 540x540 with 1 Axes>"
      ]
     },
     "metadata": {
      "needs_background": "light"
     },
     "output_type": "display_data"
    }
   ],
   "source": [
    "maze.visualize(shortest_route)"
   ]
  },
  {
   "cell_type": "markdown",
   "metadata": {},
   "source": [
    "### Synthesis"
   ]
  },
  {
   "cell_type": "code",
   "execution_count": 40,
   "metadata": {},
   "outputs": [
    {
     "name": "stdout",
     "output_type": "stream",
     "text": [
      "[0.3 3.  1.9]\n"
     ]
    }
   ],
   "source": [
    "import numpy as np\n",
    "\n",
    "print(np.minimum(np.array([1, 3, 2]), np.array([0.3, 4, 1.9])))"
   ]
  },
  {
   "cell_type": "code",
   "execution_count": null,
   "metadata": {},
   "outputs": [],
   "source": [
    "# Please keep your parameters for the synthesis part easily changeable here\n",
    "gen = 1\n",
    "no_gen = 1\n",
    "q = 1000\n",
    "evap = 0.1\n",
    "\n",
    "persist_file = \"./../tmp/my_tsp\"\n",
    "tsp_path = \"./../data/tsp_products.txt\"\n",
    "coordinates = \"./../data/hard_coordinates.txt\"\n",
    "\n",
    "# Construct optimization\n",
    "maze = Maze.create_maze(\"./../data/hard_maze.txt\")\n",
    "tsp_data = TSPData.read_specification(coordinates, tsp_path)\n",
    "aco = AntColonyOptimization(maze, gen, no_gen, q, evap)\n",
    "\n",
    "# Run optimization and write to file\n",
    "tsp_data.calculate_routes(aco)\n",
    "tsp_data.write_to_file(persist_file)\n",
    "\n",
    "# Read from file and print\n",
    "tsp_data2 = TSPData.read_from_file(persist_file)\n",
    "print(tsp_data == tsp_data2)\n",
    "\n",
    "# Solve TSP using your own paths file\n",
    "ga = GeneticAlgorithm(generations, population_size)\n",
    "solution = ga.solve_tsp(tsp_data2)\n",
    "tsp_data2.write_action_file(solution, \"./../data/tsp_solution.txt\")"
   ]
  }
 ],
 "metadata": {
  "kernelspec": {
   "display_name": "Python 3",
   "language": "python",
   "name": "python3"
  },
  "language_info": {
   "codemirror_mode": {
    "name": "ipython",
    "version": 3
   },
   "file_extension": ".py",
   "mimetype": "text/x-python",
   "name": "python",
   "nbconvert_exporter": "python",
   "pygments_lexer": "ipython3",
   "version": "3.10.9"
  },
  "vscode": {
   "interpreter": {
    "hash": "767d51c1340bd893661ea55ea3124f6de3c7a262a8b4abca0554b478b1e2ff90"
   }
  }
 },
 "nbformat": 4,
 "nbformat_minor": 2
}
