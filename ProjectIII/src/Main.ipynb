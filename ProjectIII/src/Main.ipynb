{
 "cells": [
  {
   "cell_type": "code",
   "execution_count": 1,
   "metadata": {},
   "outputs": [],
   "source": [
    "from Maze import Maze\n",
    "from Agent import Agent\n",
    "from MyQLearning import MyQLearning\n",
    "from MyEGreedy import MyEGreedy"
   ]
  },
  {
   "cell_type": "code",
   "execution_count": 2,
   "metadata": {},
   "outputs": [
    {
     "name": "stdout",
     "output_type": "stream",
     "text": [
      "Ready reading maze file ../data/easy_maze.txt\n",
      "[[1, 1, 1, 1, 1, 1, 1, 1, 1, 1, 1, 0, 1, 1, 1, 0, 1, 1, 1, 0, 1, 1, 1, 0, 0], [1, 0, 0, 0, 1, 0, 0, 0, 1, 0, 1, 0, 1, 0, 1, 0, 1, 0, 1, 0, 1, 0, 1, 0, 0], [1, 0, 0, 0, 1, 0, 0, 0, 1, 0, 1, 0, 1, 0, 1, 0, 1, 0, 1, 0, 1, 0, 1, 0, 0], [1, 1, 0, 1, 1, 1, 0, 1, 1, 0, 1, 1, 1, 1, 1, 1, 1, 1, 1, 1, 1, 1, 1, 1, 1], [0, 1, 0, 1, 0, 1, 0, 1, 0, 0, 0, 0, 0, 0, 0, 0, 1, 0, 1, 0, 1, 0, 1, 0, 1], [1, 1, 1, 1, 0, 1, 1, 1, 0, 0, 0, 0, 1, 1, 1, 0, 1, 0, 1, 0, 1, 0, 1, 0, 1], [1, 0, 0, 0, 0, 0, 0, 0, 0, 0, 0, 0, 1, 0, 0, 0, 1, 1, 1, 0, 1, 1, 1, 0, 1], [1, 1, 1, 1, 1, 1, 1, 1, 1, 1, 1, 0, 1, 1, 1, 0, 0, 1, 0, 0, 0, 0, 1, 0, 1], [0, 0, 0, 0, 0, 0, 0, 0, 0, 0, 1, 0, 1, 0, 0, 0, 0, 1, 0, 0, 0, 0, 1, 0, 1], [1, 1, 1, 1, 1, 1, 1, 1, 1, 1, 1, 0, 1, 1, 1, 0, 0, 1, 1, 1, 1, 1, 1, 0, 1], [1, 0, 0, 0, 0, 1, 0, 0, 0, 0, 0, 0, 0, 0, 0, 0, 0, 1, 0, 0, 0, 0, 1, 0, 1], [1, 1, 1, 1, 1, 1, 1, 1, 1, 1, 0, 1, 1, 1, 0, 1, 1, 1, 1, 1, 1, 1, 1, 0, 1], [1, 0, 0, 0, 0, 0, 0, 0, 0, 1, 0, 1, 0, 1, 0, 1, 0, 1, 0, 0, 0, 0, 1, 0, 1], [1, 0, 1, 1, 1, 0, 1, 1, 1, 1, 0, 1, 0, 1, 0, 1, 0, 1, 0, 0, 0, 0, 1, 0, 1], [1, 1, 1, 0, 1, 1, 1, 0, 0, 1, 1, 1, 0, 1, 1, 1, 0, 1, 1, 1, 1, 1, 1, 0, 1]]\n",
      "[[  0   0   0   0   0   0   0   0   0   0   0 100   0   0   0 100   0   0\n",
      "    0 100   0   0   0 100 100]\n",
      " [  0 100 100 100   0 100 100 100   0 100   0 100   0 100   0 100   0 100\n",
      "    0 100   0 100   0 100 100]\n",
      " [  0 100 100 100   0 100 100 100   0 100   0 100   0 100   0 100   0 100\n",
      "    0 100   0 100   0 100 100]\n",
      " [  0   0 100   0   0   0 100   0   0 100   0   0   0   0   0   0   0   0\n",
      "    0   0   0   0   0   0   0]\n",
      " [100   0 100   0 100   0 100   0 100 100 100 100 100 100 100 100   0 100\n",
      "    0 100   0 100   0 100   0]\n",
      " [  0   0   0   0 100   0   0   0 100 100 100 100   0   0   0 100   0 100\n",
      "    0 100   0 100   0 100   0]\n",
      " [  0 100 100 100 100 100 100 100 100 100 100 100   0 100 100 100   0   0\n",
      "    0 100   0   0   0 100   0]\n",
      " [  0   0   0   0   0   0   0   0   0   0   0 100   0   0   0 100 100   0\n",
      "  100 100 100 100   0 100   0]\n",
      " [100 100 100 100 100 100 100 100 100 100   0 100   0 100 100 100 100   0\n",
      "  100 100 100 100   0 100   0]\n",
      " [  0   0   0   0   0   0   0   0   0   0   0 100   0   0   0 100 100   0\n",
      "    0   0   0   0   0 100   0]\n",
      " [  0 100 100 100 100   0 100 100 100 100 100 100 100 100 100 100 100   0\n",
      "  100 100 100 100   0 100   0]\n",
      " [  0   0   0   0   0   0   0   0   0   0 100   0   0   0 100   0   0   0\n",
      "    0   0   0   0   0 100   0]\n",
      " [  0 100 100 100 100 100 100 100 100   0 100   0 100   0 100   0 100   0\n",
      "  100 100 100 100   0 100   0]\n",
      " [  0 100   0   0   0 100   0   0   0   0 100   0 100   0 100   0 100   0\n",
      "  100 100 100 100   0 100   0]\n",
      " [  0   0   0 100   0   0   0 100 100   0   0   0 100   0   0   0 100   0\n",
      "    0   0   0   0   0 100   0]]\n"
     ]
    },
    {
     "data": {
      "image/png": "[encoded data removed]",
      "text/plain": [
       "<Figure size 540x540 with 1 Axes>"
      ]
     },
     "metadata": {
      "needs_background": "light"
     },
     "output_type": "display_data"
    },
    {
     "name": "stdout",
     "output_type": "stream",
     "text": [
      "Made EGreedy\n"
     ]
    },
    {
     "ename": "KeyboardInterrupt",
     "evalue": "",
     "output_type": "error",
     "traceback": [
      "\u001b[0;31m---------------------------------------------------------------------------\u001b[0m",
      "\u001b[0;31mKeyboardInterrupt\u001b[0m                         Traceback (most recent call last)",
      "\u001b[1;32m/home/yk/Coding/ci/group-43/ProjectIII/src/Main.ipynb Cell 2\u001b[0m in \u001b[0;36m<cell line: 20>\u001b[0;34m()\u001b[0m\n\u001b[1;32m     <a href='vscode-notebook-cell:/home/yk/Coding/ci/group-43/ProjectIII/src/Main.ipynb#W1sZmlsZQ%3D%3D?line=16'>17</a>\u001b[0m stop \u001b[39m=\u001b[39m \u001b[39mFalse\u001b[39;00m\n\u001b[1;32m     <a href='vscode-notebook-cell:/home/yk/Coding/ci/group-43/ProjectIII/src/Main.ipynb#W1sZmlsZQ%3D%3D?line=18'>19</a>\u001b[0m \u001b[39m# keep learning until you decide to stop\u001b[39;00m\n\u001b[0;32m---> <a href='vscode-notebook-cell:/home/yk/Coding/ci/group-43/ProjectIII/src/Main.ipynb#W1sZmlsZQ%3D%3D?line=19'>20</a>\u001b[0m \u001b[39mwhile\u001b[39;00m \u001b[39mnot\u001b[39;00m stop:\n\u001b[1;32m     <a href='vscode-notebook-cell:/home/yk/Coding/ci/group-43/ProjectIII/src/Main.ipynb#W1sZmlsZQ%3D%3D?line=20'>21</a>\u001b[0m     \u001b[39mpass\u001b[39;00m\n",
      "\u001b[0;31mKeyboardInterrupt\u001b[0m: "
     ]
    }
   ],
   "source": [
    "# Load the maze\n",
    "file = \"../data/toy_maze.txt\"\n",
    "maze = Maze(file)\n",
    "maze.visualize()\n",
    "# Set the reward at the bottom right to 10\n",
    "maze.set_reward(maze.get_state(9, 9), 10)\n",
    "\n",
    "# Create a robot at starting and reset location (0,0) (top left)\n",
    "robot = Agent(0, 0)\n",
    "\n",
    "# Make a selection object (you need to implement the methods in this class)\n",
    "selection = MyEGreedy()\n",
    "\n",
    "# Make a Qlearning object (you need to implement the methods in this class)\n",
    "learn = MyQLearning()\n",
    "\n",
    "stop = False\n",
    "\n",
    "# keep learning until you decide to stop\n",
    "while not stop:\n",
    "    pass\n",
    "    # TODO implement the action selection and learning cycle\n",
    "    # TODO figure out a stopping criterion"
   ]
  }
 ],
 "metadata": {
  "kernelspec": {
   "display_name": "Python 3",
   "language": "python",
   "name": "python3"
  },
  "language_info": {
   "codemirror_mode": {
    "name": "ipython",
    "version": 3
   },
   "file_extension": ".py",
   "mimetype": "text/x-python",
   "name": "python",
   "nbconvert_exporter": "python",
   "pygments_lexer": "ipython3",
   "version": "3.10.10"
  },
  "orig_nbformat": 4,
  "vscode": {
   "interpreter": {
    "hash": "767d51c1340bd893661ea55ea3124f6de3c7a262a8b4abca0554b478b1e2ff90"
   }
  }
 },
 "nbformat": 4,
 "nbformat_minor": 2
}
