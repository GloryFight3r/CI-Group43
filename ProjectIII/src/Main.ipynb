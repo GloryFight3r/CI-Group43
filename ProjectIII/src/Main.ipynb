{
 "cells": [
  {
   "cell_type": "code",
   "execution_count": 6,
   "metadata": {},
   "outputs": [],
   "source": [
    "from Maze import Maze\n",
    "from Agent import Agent\n",
    "from MyQLearning import MyQLearning\n",
    "from MyEGreedy import MyEGreedy\n",
    "from State import State"
   ]
  },
  {
   "cell_type": "code",
   "execution_count": 19,
   "metadata": {},
   "outputs": [],
   "source": [
    "def main_algo(maze: Maze, rewards, eps=0.1, alfa=0.7, gamma=0.9, max_iter=30000, max_episodes=16):\n",
    "    reward_coordinates = set()\n",
    "    for reward in rewards:\n",
    "        maze.set_reward(maze.get_state(reward[0], reward[1]), reward[2])\n",
    "        reward_coordinates.add(State(reward[0], reward[1], 1))\n",
    "\n",
    "    # create dictions with algorithms history\n",
    "    steps_per_iter = list()\n",
    "\n",
    "    # Create a robot at starting and reset location (0,0) (top left)\n",
    "    robot = Agent(0, 0)\n",
    "\n",
    "    # Make a selection object (you need to implement the methods in this class)\n",
    "    selection = MyEGreedy()\n",
    "\n",
    "    # Make a Qlearning object (you need to implement the methods in this class)\n",
    "    learn = MyQLearning()\n",
    "\n",
    "    episode = 0\n",
    "    stop = False\n",
    "    steps = 0\n",
    "    iterations = 0\n",
    "\n",
    "    # keep learning until you decide to stop\n",
    "    while not stop:\n",
    "        \n",
    "\n",
    "        # Get next action\n",
    "        current_action = selection.get_egreedy_action(agent=robot, maze=maze, q_learning=learn, epsilon=eps)\n",
    "        \n",
    "        # Initialize variables for a learn update\n",
    "        current_state = robot.get_state(maze)\n",
    "        state_next = robot.do_action(action=current_action, maze=maze)\n",
    "        r = maze.get_reward(robot.get_state(maze))\n",
    "        possible_actions = maze.get_valid_actions(robot)\n",
    "        \n",
    "        # Update Q(s,a) matrix\n",
    "        learn.update_q(state=current_state, action=current_action, r=r, state_next=state_next, possible_actions=possible_actions, alfa=alfa, gamma=gamma)\n",
    "        \n",
    "        # Number of iterations stopping criterion\n",
    "        iterations += 1\n",
    "        if max_iter == iterations:\n",
    "            break\n",
    "\n",
    "        if robot.get_state(maze) in reward_coordinates:\n",
    "            steps_per_iter.append(robot.nr_of_actions_since_reset)\n",
    "            # Number of episodes stopping criterion\n",
    "            episode += 1\n",
    "            if episode == max_episodes:\n",
    "                break\n",
    "            robot.reset()\n",
    "\n",
    "    return steps_per_iter"
   ]
  },
  {
   "cell_type": "code",
   "execution_count": 9,
   "metadata": {},
   "outputs": [
    {
     "name": "stdout",
     "output_type": "stream",
     "text": [
      "Ready reading maze file ../data/toy_maze.txt\n",
      "[[1, 1, 0, 1, 0, 1, 0, 0, 0, 1], [0, 1, 1, 1, 0, 1, 1, 1, 0, 1], [0, 1, 0, 0, 0, 0, 0, 1, 0, 1], [0, 1, 0, 1, 1, 1, 0, 1, 1, 1], [0, 1, 0, 1, 0, 1, 1, 1, 0, 1], [0, 1, 0, 1, 0, 0, 0, 1, 0, 1], [1, 1, 1, 1, 1, 1, 1, 1, 0, 1], [1, 0, 1, 0, 0, 0, 0, 1, 0, 1], [1, 0, 1, 0, 0, 0, 0, 1, 0, 1], [1, 0, 1, 1, 1, 1, 1, 1, 0, 1]]\n",
      "[[  0   0 100   0 100   0 100 100 100   0]\n",
      " [100   0   0   0 100   0   0   0 100   0]\n",
      " [100   0 100 100 100 100 100   0 100   0]\n",
      " [100   0 100   0   0   0 100   0   0   0]\n",
      " [100   0 100   0 100   0   0   0 100   0]\n",
      " [100   0 100   0 100 100 100   0 100   0]\n",
      " [  0   0   0   0   0   0   0   0 100   0]\n",
      " [  0 100   0 100 100 100 100   0 100   0]\n",
      " [  0 100   0 100 100 100 100   0 100   0]\n",
      " [  0 100   0   0   0   0   0   0 100   0]]\n"
     ]
    },
    {
     "data": {
      "image/png": "[encoded data removed]",
      "text/plain": [
       "<Figure size 540x540 with 1 Axes>"
      ]
     },
     "metadata": {
      "needs_background": "light"
     },
     "output_type": "display_data"
    },
    {
     "name": "stdout",
     "output_type": "stream",
     "text": [
      "Made EGreedy\n",
      "396\n",
      "1754\n",
      "370\n",
      "446\n",
      "668\n",
      "2162\n",
      "264\n",
      "774\n",
      "2398\n",
      "586\n",
      "1858\n",
      "316\n",
      "286\n",
      "602\n",
      "Made EGreedy\n",
      "648\n",
      "1568\n",
      "1834\n",
      "220\n",
      "1396\n",
      "1896\n",
      "956\n",
      "460\n",
      "234\n",
      "1498\n",
      "1856\n",
      "300\n",
      "1996\n",
      "1672\n",
      "Made EGreedy\n",
      "658\n",
      "1598\n",
      "516\n",
      "588\n",
      "856\n",
      "1222\n",
      "158\n",
      "2564\n",
      "3344\n",
      "374\n",
      "514\n",
      "988\n",
      "792\n",
      "1816\n",
      "Made EGreedy\n",
      "2198\n"
     ]
    },
    {
     "ename": "KeyboardInterrupt",
     "evalue": "",
     "output_type": "error",
     "traceback": [
      "\u001b[0;31m---------------------------------------------------------------------------\u001b[0m",
      "\u001b[0;31mKeyboardInterrupt\u001b[0m                         Traceback (most recent call last)",
      "\u001b[1;32m/home/yk/Coding/ci/group-43/ProjectIII/src/Main.ipynb Cell 2\u001b[0m in \u001b[0;36m<cell line: 11>\u001b[0;34m()\u001b[0m\n\u001b[1;32m     <a href='vscode-notebook-cell:/home/yk/Coding/ci/group-43/ProjectIII/src/Main.ipynb#X20sZmlsZQ%3D%3D?line=40'>41</a>\u001b[0m         \u001b[39mbreak\u001b[39;00m\n\u001b[1;32m     <a href='vscode-notebook-cell:/home/yk/Coding/ci/group-43/ProjectIII/src/Main.ipynb#X20sZmlsZQ%3D%3D?line=41'>42</a>\u001b[0m     robot\u001b[39m.\u001b[39mreset()\n\u001b[0;32m---> <a href='vscode-notebook-cell:/home/yk/Coding/ci/group-43/ProjectIII/src/Main.ipynb#X20sZmlsZQ%3D%3D?line=42'>43</a>\u001b[0m current_action \u001b[39m=\u001b[39m selection\u001b[39m.\u001b[39;49mget_egreedy_action(agent\u001b[39m=\u001b[39;49mrobot, maze\u001b[39m=\u001b[39;49mmaze, q_learning\u001b[39m=\u001b[39;49mlearn, epsilon\u001b[39m=\u001b[39;49meps)\n\u001b[1;32m     <a href='vscode-notebook-cell:/home/yk/Coding/ci/group-43/ProjectIII/src/Main.ipynb#X20sZmlsZQ%3D%3D?line=43'>44</a>\u001b[0m \u001b[39m#print(current_action, robot.get_state(maze))\u001b[39;00m\n\u001b[1;32m     <a href='vscode-notebook-cell:/home/yk/Coding/ci/group-43/ProjectIII/src/Main.ipynb#X20sZmlsZQ%3D%3D?line=45'>46</a>\u001b[0m current_state \u001b[39m=\u001b[39m robot\u001b[39m.\u001b[39mget_state(maze)\n",
      "File \u001b[0;32m~/Coding/ci/group-43/ProjectIII/src/MyEGreedy.py:39\u001b[0m, in \u001b[0;36mMyEGreedy.get_egreedy_action\u001b[0;34m(self, agent, maze, q_learning, epsilon)\u001b[0m\n\u001b[1;32m     37\u001b[0m     \u001b[39mreturn\u001b[39;00m \u001b[39mself\u001b[39m\u001b[39m.\u001b[39mget_random_action(agent, maze)\n\u001b[1;32m     38\u001b[0m \u001b[39melse\u001b[39;00m:\n\u001b[0;32m---> 39\u001b[0m     \u001b[39mreturn\u001b[39;00m \u001b[39mself\u001b[39;49m\u001b[39m.\u001b[39;49mget_best_action(agent, maze, q_learning)\n",
      "File \u001b[0;32m~/Coding/ci/group-43/ProjectIII/src/MyEGreedy.py:30\u001b[0m, in \u001b[0;36mMyEGreedy.get_best_action\u001b[0;34m(self, agent, maze, q_learning)\u001b[0m\n\u001b[1;32m     27\u001b[0m     cur_reward \u001b[39m=\u001b[39m q_learning\u001b[39m.\u001b[39mget_q(agent\u001b[39m.\u001b[39mget_state(maze), x)\n\u001b[1;32m     28\u001b[0m     all_rewards\u001b[39m.\u001b[39mappend(cur_reward)\n\u001b[0;32m---> 30\u001b[0m \u001b[39mreturn\u001b[39;00m actions[np\u001b[39m.\u001b[39;49mrandom\u001b[39m.\u001b[39;49mchoice(np\u001b[39m.\u001b[39;49mflatnonzero(all_rewards \u001b[39m==\u001b[39;49m np\u001b[39m.\u001b[39;49marray(all_rewards)\u001b[39m.\u001b[39;49mmax()))]\n",
      "\u001b[0;31mKeyboardInterrupt\u001b[0m: "
     ]
    }
   ],
   "source": [
    "#1.4\n",
    "\n",
    "# Load the maze\n",
    "file = \"../data/toy_maze.txt\"\n",
    "maze = Maze(file)\n",
    "\n",
    "# Set the reward at the bottom right to 10\n",
    "rewards = [(9, 9, 10)]\n",
    "\n",
    "for i in range(10):\n",
    "    "
   ]
  },
  {
   "cell_type": "code",
   "execution_count": 68,
   "metadata": {},
   "outputs": [
    {
     "name": "stdout",
     "output_type": "stream",
     "text": [
      "[893.6, 1821.0, 1087.0, 878.0, 942.0, 755.6, 914.2, 1278.4, 1063.0, 1475.4, 919.4, 974.0, 1259.2, 763.8, 1351.6]\n"
     ]
    },
    {
     "data": {
      "text/plain": [
       "(0.0, 3000.0)"
      ]
     },
     "execution_count": 68,
     "metadata": {},
     "output_type": "execute_result"
    },
    {
     "data": {
      "image/png": "[encoded data removed]",
      "text/plain": [
       "<Figure size 640x480 with 1 Axes>"
      ]
     },
     "metadata": {},
     "output_type": "display_data"
    }
   ],
   "source": [
    "import matplotlib.pyplot as plt\n",
    "import numpy as np\n",
    "\n",
    "#print(steps_per_iter)\n",
    "\n",
    "x = np.array(steps_per_iter.keys())\n",
    "y = np.array(list(steps_per_iter.values())) / np.array(list(lines_per_run.values()))\n",
    "\n",
    "print(y.tolist())\n",
    "plt.plot(x.tolist(), y.tolist())\n",
    "plt.ylim(0, 3000)"
   ]
  },
  {
   "cell_type": "code",
   "execution_count": 22,
   "metadata": {},
   "outputs": [
    {
     "name": "stdout",
     "output_type": "stream",
     "text": [
      "Ready reading maze file ../data/toy_maze.txt\n",
      "Made EGreedy\n",
      "1580\n",
      "554\n",
      "642\n",
      "1780\n",
      "292\n",
      "496\n",
      "338\n",
      "732\n",
      "160\n",
      "138\n",
      "292\n",
      "90\n",
      "216\n",
      "170\n",
      "376\n",
      "180\n",
      "54\n",
      "66\n",
      "92\n",
      "92\n",
      "70\n",
      "60\n",
      "32\n",
      "34\n",
      "24\n",
      "28\n",
      "26\n",
      "26\n",
      "28\n",
      "32\n",
      "28\n",
      "28\n",
      "26\n",
      "30\n",
      "26\n",
      "40\n",
      "26\n",
      "26\n",
      "26\n",
      "[1580, 554, 642, 1780, 292, 496, 338, 732, 160, 138, 292, 90, 216, 170, 376, 180, 54, 66, 92, 92, 70, 60, 32, 34, 24, 28, 26, 26, 28, 32, 28, 28, 26, 30, 26, 40, 26, 26, 26, 30]\n",
      "Made EGreedy\n",
      "898\n",
      "528\n",
      "1692\n",
      "950\n",
      "382\n",
      "780\n",
      "204\n",
      "834\n",
      "414\n",
      "366\n",
      "694\n",
      "292\n",
      "464\n",
      "118\n",
      "380\n",
      "78\n",
      "292\n",
      "166\n",
      "200\n",
      "258\n",
      "52\n",
      "94\n",
      "60\n",
      "38\n",
      "48\n",
      "30\n",
      "26\n",
      "26\n",
      "28\n",
      "26\n",
      "26\n",
      "30\n",
      "26\n",
      "26\n",
      "50\n",
      "26\n",
      "26\n",
      "26\n",
      "36\n",
      "[898, 528, 1692, 950, 382, 780, 204, 834, 414, 366, 694, 292, 464, 118, 380, 78, 292, 166, 200, 258, 52, 94, 60, 38, 48, 30, 26, 26, 28, 26, 26, 30, 26, 26, 50, 26, 26, 26, 36, 26]\n",
      "Made EGreedy\n",
      "990\n",
      "1918\n",
      "1572\n",
      "1448\n",
      "882\n",
      "332\n",
      "282\n",
      "412\n",
      "292\n",
      "200\n",
      "162\n",
      "138\n",
      "194\n",
      "122\n",
      "96\n",
      "296\n",
      "80\n",
      "46\n",
      "106\n",
      "60\n",
      "126\n",
      "28\n",
      "60\n",
      "32\n",
      "90\n",
      "28\n",
      "24\n",
      "32\n",
      "30\n",
      "26\n",
      "26\n",
      "28\n",
      "26\n",
      "28\n",
      "24\n",
      "26\n",
      "26\n",
      "26\n",
      "26\n",
      "[990, 1918, 1572, 1448, 882, 332, 282, 412, 292, 200, 162, 138, 194, 122, 96, 296, 80, 46, 106, 60, 126, 28, 60, 32, 90, 28, 24, 32, 30, 26, 26, 28, 26, 28, 24, 26, 26, 26, 26, 30]\n"
     ]
    }
   ],
   "source": [
    "#1.5 and 1.6\n",
    "\n",
    "# Load the maze\n",
    "file = \"../data/toy_maze.txt\"\n",
    "maze = Maze(file)\n",
    "\n",
    "# Set the reward at the bottom right to 10\n",
    "rewards = [(9, 9, 10)]\n",
    "\n",
    "steps_per_episode = []\n",
    "runs_reaching_episode = []\n",
    "\n",
    "alfa = 0.7\n",
    "gamma = 0.9\n",
    "max_episodes = 40\n",
    "max_iterations = 30000\n",
    "eps = 0.1\n",
    "\n",
    "for runNumber in range(3):\n",
    "    res = main_algo(alfa=alfa, gamma=gamma, max_episodes=max_episodes, max_iter=max_iterations, eps=eps, maze=maze, rewards=rewards)\n",
    "    print(res)\n",
    "\n",
    "    for i in range(len(res)):\n",
    "        if i >= len(runs_reaching_episode):\n",
    "            runs_reaching_episode.append(0)\n",
    "        if i >= len(steps_per_episode):\n",
    "            steps_per_episode.append(0)\n",
    "    \n",
    "    for i in range(len(res)):\n",
    "        steps_per_episode[i] += res[i]\n",
    "        runs_reaching_episode[i] += 1"
   ]
  },
  {
   "cell_type": "code",
   "execution_count": 23,
   "metadata": {},
   "outputs": [
    {
     "name": "stdout",
     "output_type": "stream",
     "text": [
      "[3468, 3000, 3906, 4178, 1556, 1608, 824, 1978, 866, 704, 1148, 520, 874, 410, 852, 554, 426, 278, 398, 410, 248, 182, 152, 104, 162, 86, 76, 84, 86, 84, 80, 86, 78, 84, 100, 92, 78, 78, 88, 86]\n",
      "[3, 3, 3, 3, 3, 3, 3, 3, 3, 3, 3, 3, 3, 3, 3, 3, 3, 3, 3, 3, 3, 3, 3, 3, 3, 3, 3, 3, 3, 3, 3, 3, 3, 3, 3, 3, 3, 3, 3, 3]\n",
      "[1156.0, 1000.0, 1302.0, 1392.6666666666667, 518.6666666666666, 536.0, 274.6666666666667, 659.3333333333334, 288.6666666666667, 234.66666666666666, 382.6666666666667, 173.33333333333334, 291.3333333333333, 136.66666666666666, 284.0, 184.66666666666666, 142.0, 92.66666666666667, 132.66666666666666, 136.66666666666666, 82.66666666666667, 60.666666666666664, 50.666666666666664, 34.666666666666664, 54.0, 28.666666666666668, 25.333333333333332, 28.0, 28.666666666666668, 28.0, 26.666666666666668, 28.666666666666668, 26.0, 28.0, 33.333333333333336, 30.666666666666668, 26.0, 26.0, 29.333333333333332, 28.666666666666668]\n"
     ]
    },
    {
     "data": {
      "text/plain": [
       "(0.0, 2000.0)"
      ]
     },
     "execution_count": 23,
     "metadata": {},
     "output_type": "execute_result"
    },
    {
     "data": {
      "image/png": "[encoded data removed]",
      "text/plain": [
       "<Figure size 432x288 with 1 Axes>"
      ]
     },
     "metadata": {
      "needs_background": "light"
     },
     "output_type": "display_data"
    }
   ],
   "source": [
    "import matplotlib.pyplot as plt\n",
    "import numpy as np\n",
    "\n",
    "print(steps_per_episode)\n",
    "print(runs_reaching_episode)\n",
    "\n",
    "x = np.array(range(len(runs_reaching_episode)))\n",
    "y = np.array(steps_per_episode) / np.array(runs_reaching_episode)\n",
    "\n",
    "print(y.tolist())\n",
    "plt.plot(x.tolist(), y.tolist())\n",
    "plt.ylim(0, 2000)"
   ]
  }
 ],
 "metadata": {
  "kernelspec": {
   "display_name": "Python 3",
   "language": "python",
   "name": "python3"
  },
  "language_info": {
   "codemirror_mode": {
    "name": "ipython",
    "version": 3
   },
   "file_extension": ".py",
   "mimetype": "text/x-python",
   "name": "python",
   "nbconvert_exporter": "python",
   "pygments_lexer": "ipython3",
   "version": "3.10.10"
  },
  "orig_nbformat": 4,
  "vscode": {
   "interpreter": {
    "hash": "767d51c1340bd893661ea55ea3124f6de3c7a262a8b4abca0554b478b1e2ff90"
   }
  }
 },
 "nbformat": 4,
 "nbformat_minor": 2
}
