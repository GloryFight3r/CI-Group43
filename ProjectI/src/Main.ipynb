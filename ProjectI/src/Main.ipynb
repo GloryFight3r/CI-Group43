{
 "cells": [
  {
   "cell_type": "code",
   "execution_count": 34,
   "metadata": {},
   "outputs": [
    {
     "name": "stdout",
     "output_type": "stream",
     "text": [
      "0.5128175942120714\n",
      "0.4999999962518467\n",
      "0.487182370375232\n",
      "0.4743816069964846\n"
     ]
    },
    {
     "data": {
      "image/png": "[encoded data removed]",
      "text/plain": [
       "<Figure size 640x480 with 1 Axes>"
      ]
     },
     "metadata": {},
     "output_type": "display_data"
    }
   ],
   "source": [
    "# Attempting to train a perceptron for the XOR function\n",
    "import numpy as np\n",
    "from NeuralNetwork import Perceptron\n",
    "from Functions import Sigmoid\n",
    "import matplotlib.pyplot as plt \n",
    "\n",
    "def plot_history(res) -> None:\n",
    "\tplt.suptitle(\"XOR function\", fontsize=14)\n",
    "\tax1 = plt.subplot(121)\n",
    "\tax1.set_title(\"Loss\")\n",
    "\tresult_mapped = res\n",
    "\tax1.plot(result_mapped, label=\"train\")\n",
    "\tplt.xlabel(\"Epoch\")\n",
    "\tax1.legend()\n",
    "\n",
    "# Initialize perperceptron\n",
    "perceptron = Perceptron(np.array([0.01, -0.01],  dtype = 'f'), 0.02, Sigmoid)\n",
    "\n",
    "# XOR function\n",
    "inputs = np.array([0, 0], dtype = 'f'), np.array([0, 1], dtype = 'f'), np.array([1, 0], dtype = 'f'), np.array([1, 1], dtype = 'f')\n",
    "outputs = np.array([0, 1, 1, 0], dtype = 'f')\n",
    "\n",
    "history = []\n",
    "for i in range(100000):\n",
    "    for j in range(4):\n",
    "        perceptron.update(perceptron.compute_loss(perceptron.forward(inputs[j]), outputs[j]), 0.1)\n",
    "    total_loss = 0\n",
    "    for k in range(4):\n",
    "        total_loss += perceptron.compute_loss(perceptron.forward(inputs[k]), outputs[k]) / 4\n",
    "    history.append(total_loss)\n",
    "\n",
    "for i in range(4):\n",
    "    print(perceptron.forward(inputs[i]))\n",
    "\n",
    "plot_history(history)"
   ]
  },
  {
   "cell_type": "code",
   "execution_count": 37,
   "metadata": {},
   "outputs": [
    {
     "name": "stdout",
     "output_type": "stream",
     "text": [
      "[2 6 7 1 6 5 1 3 7 7 3 3 1 3 6 4 2 4 2 2 7 5 6 6 5 1 1 3 1 6 6 4 4 4 4 4 5\n",
      " 2 3 7 4 6 5 5 5 7 5 4 5 1 5 5 2 1 6 3 1 7 1 1 3 6 3 2 7 2 2 2 7 7 7 6 7 1\n",
      " 4 1 4 4 1 7 1 4 1 4 4 2 3 2 1 7 6 2 7 1 2 7 2 2 5 2 5 7 5 5 2 6 5 6 2 3 7\n",
      " 4 1 5 5 7 5 2 4 4 7 1 2 1 1 4 7 4 7 7 7 6 6 7 7 4 4 4 3 5 3 4 1 1 2 6 6 5\n",
      " 4 7 7 4 1 7 1 3 7 4 3 6 7 7 3 4 1 5 6 2 5 5 3 1 6 4 7 3 3 5 5 1 3 4 1 1 2\n",
      " 3 3 2 5 3 4 6 1 6 6 2 2 3 6 7 7 2 5 3 5 6 7 4 2 2 3 6 2 6 6 4 2 6 1 3 1 3\n",
      " 6 2 2 6 7 1 6 1 1 5 2 4 5 4 4 4 7 7 4 1 5 5 3 1 1 6 6 5 4 4 6 2 6 1 6 1 5\n",
      " 3 5 3 3 6 1 2 6 6 6 2 4 5 3 5 3 3 4 7 6 4 3 6 7 7 2 2 7 2 1 4 6 3 4 5 4 6\n",
      " 4 7 4 4 2 1 2 5 2 2 1 3 3 1 1 7 2 4 6 7 2 2 6 5 5 6 1 4 4 7 5 6 7 3 4 6 4\n",
      " 3 5 1 7 5 4 3 2 1 7 6 2 2 5 4 2 1 4 7 6 4 1 5 4 4 6 7 3 1 3 1 1 4 7 4 7 2\n",
      " 3 2 3 2 2 1 3 1 7 7 4 3 5 7 1 1 2 7 2 3 6 7 7 5 7 5 1 3 4 4 6 1 2 1 5 7 4\n",
      " 1 1 1 5 4 2 2 7 7 7 2 3 4 2 4 7 1 2 6 7 7 5 1 7 4 6 3 7 5 5 3 2 3 1 4 1 6\n",
      " 4 4 6 1 1 2 1 5 5 7 6 6 4 2 7 7 5 3 5 1 4 5 3 4 6 3 2 5 6 7 3 4 1 3 3 6 1\n",
      " 1 7 2 2 4 1 6 5 5 6 5 3 6 7 4 2 7 4 7 3 7 3 3 1 2 3 7 7 7 2 3 1 1 3 6 5 4\n",
      " 7 3 1 5 4 6 2 2 3 6 4 2 1 2 6 5 5 3 4 4 5 6 7 1 1 2 2 5 2 1 2 7 2 2 1 4 3\n",
      " 2 4 7 1 2 4 5 5 3 7 2 7 4 6 7 3 6 5 7 1 7 4 5 4 6 3 5 1 7 4 2 6 2 6 4 1 6\n",
      " 4 5 4 5 1 4 4 2 2 6 1 3 1 5 5 2 3 5 3 5 4 5 1 6 4 6 6 6 7 7 4 3 6 4 7 4 2\n",
      " 5 1 4 3 6 5 1 2 1 6 4 1 5 6 3 1 1 7 1 6 3 2 4 7 7 1 5 3 6 5 7 2 5 1 7 6 4\n",
      " 1 6 6 2 1 1 4 1 6 4 5 6 2 5 3 4 1 4 4 3 4 2 5 4 7 4 1 4 2 1 5 5 6 3 5 3 4\n",
      " 1 3 2 1 4 2 5 2 4 2 6 6 1 7 4 6 5 7 3 3 1 7 4 7 6 4 2 5 6 4 2 4 2 2 3 1 5\n",
      " 2 3 6 5 7 3 7 3 3 6 6 3 3 7 4 5 3 7 6 2 6 7 3 5 1 4 1 4 6 6 3 7 2 2 5 5 7\n",
      " 2 2 2 2 6 2 1]\n"
     ]
    }
   ],
   "source": [
    "# Predicting the unknown dataset\n",
    "import numpy as np\n",
    "from NeuralNetwork import ANN\n",
    "from DataSplit import DataSet\n",
    "\n",
    "ds = DataSet(0.0)\n",
    "\n",
    "best_param = {'lr': 0.1, 'ls': [25, 7], 'epochs': 1000}\n",
    "early_stop = 100\n",
    "num_classes = 7\n",
    "\n",
    "ann = ANN(ds.train_features.shape[1], best_param[\"ls\"], learning_rate=best_param[\"lr\"])\n",
    "ann.fit(ds.train_features, ds.train_targets, ds.train_features, ds.train_targets, num_classes, best_param[\"epochs\"], early_stop)\n",
    "\n",
    "unknown = np.genfromtxt(\"../data/unknown.txt\", delimiter=\",\")\n",
    "\n",
    "\n",
    "prediction = ann.predict(unknown)\n",
    "\n",
    "print(prediction)"
   ]
  },
  {
   "cell_type": "code",
   "execution_count": 36,
   "metadata": {},
   "outputs": [],
   "source": [
    "with open('43_classes.txt', 'w', newline='') as file:\n",
    "    lst = prediction.tolist()\n",
    "    lst = map(lambda x: str(x), lst)\n",
    "    file.write(\",\".join(lst))"
   ]
  }
 ],
 "metadata": {
  "kernelspec": {
   "display_name": "Python 3",
   "language": "python",
   "name": "python3"
  },
  "language_info": {
   "codemirror_mode": {
    "name": "ipython",
    "version": 3
   },
   "file_extension": ".py",
   "mimetype": "text/x-python",
   "name": "python",
   "nbconvert_exporter": "python",
   "pygments_lexer": "ipython3",
   "version": "3.10.9"
  },
  "orig_nbformat": 4
 },
 "nbformat": 4,
 "nbformat_minor": 2
}
