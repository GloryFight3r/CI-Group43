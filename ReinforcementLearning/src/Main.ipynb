{
 "cells": [
  {
   "cell_type": "code",
   "execution_count": 11,
   "metadata": {},
   "outputs": [],
   "source": [
    "from Maze import Maze\n",
    "from Agent import Agent\n",
    "from MyQLearning import MyQLearning\n",
    "from MyEGreedy import MyEGreedy\n",
    "from State import State"
   ]
  },
  {
   "cell_type": "code",
   "execution_count": 12,
   "metadata": {},
   "outputs": [
    {
     "name": "stdout",
     "output_type": "stream",
     "text": [
      "Ready reading maze file ../data/toy_maze.txt\n",
      "Made EGreedy\n",
      "3978\n",
      "850\n",
      "1104\n",
      "332\n",
      "1088\n",
      "934\n",
      "216\n",
      "212\n",
      "254\n",
      "890\n",
      "178\n",
      "562\n",
      "98\n",
      "232\n",
      "206\n",
      "242\n",
      "178\n",
      "286\n",
      "46\n",
      "84\n",
      "226\n",
      "96\n",
      "46\n",
      "74\n",
      "34\n",
      "76\n",
      "48\n",
      "46\n",
      "28\n",
      "28\n",
      "28\n",
      "34\n",
      "64\n",
      "26\n",
      "30\n",
      "24\n",
      "30\n",
      "30\n",
      "24\n",
      "[(3978, 0), (850, 0), (1104, 0), (332, 0), (1088, 0), (934, 0), (216, 0), (212, 0), (254, 0), (890, 0), (178, 0), (562, 0), (98, 0), (232, 0), (206, 0), (242, 0), (178, 0), (286, 0), (46, 0), (84, 0), (226, 0), (96, 0), (46, 0), (74, 0), (34, 0), (76, 0), (48, 0), (46, 0), (28, 0), (28, 0), (28, 0), (34, 0), (64, 0), (26, 0), (30, 0), (24, 0), (30, 0), (30, 0), (24, 0), (26, 0)]\n",
      "[[3978], [850], [1104], [332], [1088], [934], [216], [212], [254], [890], [178], [562], [98], [232], [206], [242], [178], [286], [46], [84], [226], [96], [46], [74], [34], [76], [48], [46], [28], [28], [28], [34], [64], [26], [30], [24], [30], [30], [24], [26]]\n",
      "[1, 1, 1, 1, 1, 1, 1, 1, 1, 1, 1, 1, 1, 1, 1, 1, 1, 1, 1, 1, 1, 1, 1, 1, 1, 1, 1, 1, 1, 1, 1, 1, 1, 1, 1, 1, 1, 1, 1, 1]\n",
      "[3978.0, 850.0, 1104.0, 332.0, 1088.0, 934.0, 216.0, 212.0, 254.0, 890.0, 178.0, 562.0, 98.0, 232.0, 206.0, 242.0, 178.0, 286.0, 46.0, 84.0, 226.0, 96.0, 46.0, 74.0, 34.0, 76.0, 48.0, 46.0, 28.0, 28.0, 28.0, 34.0, 64.0, 26.0, 30.0, 24.0, 30.0, 30.0, 24.0, 26.0]\n"
     ]
    },
    {
     "data": {
      "text/plain": [
       "[<matplotlib.lines.Line2D at 0x7f0233d90a90>]"
      ]
     },
     "execution_count": 12,
     "metadata": {},
     "output_type": "execute_result"
    },
    {
     "data": {
      "image/png": "[encoded data removed]",
      "text/plain": [
       "<Figure size 1152x432 with 1 Axes>"
      ]
     },
     "metadata": {
      "needs_background": "light"
     },
     "output_type": "display_data"
    }
   ],
   "source": [
    "def main_algo(maze: Maze, rewards, eps=0.1, alfa=0.7, gamma=0.9, max_iter=30000, max_episodes=16):\n",
    "    reward_coordinates = dict()\n",
    "    for i in range(len(rewards)):\n",
    "        reward = rewards[i]\n",
    "        maze.set_reward(maze.get_state(reward[0], reward[1]), reward[2])\n",
    "        reward_coordinates[State(reward[0], reward[1], 1)] = i\n",
    "\n",
    "    # create dictions with algorithms history\n",
    "    steps_per_iter = list()\n",
    "\n",
    "    # Create a robot at starting and reset location (0,0) (top left)\n",
    "    robot = Agent(0, 0)\n",
    "\n",
    "    # Make a selection object (you need to implement the methods in this class)\n",
    "    selection = MyEGreedy()\n",
    "\n",
    "    # Make a Qlearning object (you need to implement the methods in this class)\n",
    "    learn = MyQLearning()\n",
    "\n",
    "    episode = 0\n",
    "    stop = False\n",
    "    steps = 0\n",
    "    iterations = 0\n",
    "\n",
    "    # keep learning until you decide to stop\n",
    "    while not stop:\n",
    "        # Get next action\n",
    "        current_action = selection.get_egreedy_action(agent=robot, maze=maze, q_learning=learn, epsilon=eps)\n",
    "        \n",
    "        # Initialize variables for a learn update\n",
    "        current_state = robot.get_state(maze)\n",
    "        state_next = robot.do_action(action=current_action, maze=maze)\n",
    "        r = maze.get_reward(robot.get_state(maze))\n",
    "        possible_actions = maze.get_valid_actions(robot)\n",
    "\n",
    "        # Update Q(s,a) matrix\n",
    "        learn.update_q(state=current_state, action=current_action, r=r, state_next=state_next, possible_actions=possible_actions, alfa=alfa, gamma=gamma)\n",
    "        \n",
    "        # Number of iterations stopping criterion\n",
    "        iterations += 1\n",
    "        if max_iter == iterations:\n",
    "            break\n",
    "\n",
    "        if robot.get_state(maze) in reward_coordinates:\n",
    "            steps_per_iter.append((robot.nr_of_actions_since_reset, reward_coordinates[robot.get_state(maze)]))\n",
    "            # Number of episodes stopping criterion\n",
    "            episode += 1\n",
    "            if episode == max_episodes:\n",
    "                break\n",
    "            robot.reset()\n",
    "\n",
    "    return steps_per_iter\n",
    "\n",
    "# Load the maze\n",
    "file = \"../data/toy_maze.txt\"\n",
    "maze = Maze(file)\n",
    "\n",
    "# Set the reward at the bottom right to 10\n",
    "rewards = [(9, 9, 10)]\n",
    "\n",
    "steps_per_episode = []\n",
    "runs_reaching_episode = []\n",
    "\n",
    "alfa = 0.7\n",
    "gamma = 0.9\n",
    "max_episodes = 40\n",
    "max_iterations = 30000\n",
    "eps = 0.1\n",
    "\n",
    "for runNumber in range(1):\n",
    "    res = main_algo(alfa=alfa, gamma=gamma, max_episodes=max_episodes, max_iter=max_iterations, eps=eps, maze=maze, rewards=rewards)\n",
    "    print(res)\n",
    "\n",
    "    for i in range(len(res)):\n",
    "        if i >= len(runs_reaching_episode):\n",
    "            runs_reaching_episode.append(0)\n",
    "        if i >= len(steps_per_episode):\n",
    "            steps_per_episode.append([0 for i in rewards])\n",
    "    \n",
    "    for i in range(len(res)):\n",
    "        reward_number = res[i][1]\n",
    "        steps_per_episode[i][reward_number] += res[i][0]\n",
    "        runs_reaching_episode[i] += 1\n",
    "\n",
    "import matplotlib.pyplot as plt\n",
    "import numpy as np\n",
    "\n",
    "print(steps_per_episode)\n",
    "print(runs_reaching_episode)\n",
    "\n",
    "x = np.array(range(len(runs_reaching_episode)))\n",
    "y = np.array(steps_per_episode).T[0] / np.array(runs_reaching_episode)\n",
    "\n",
    "print(y.tolist())\n",
    "plt.figure(figsize=(16,6))\n",
    "plt.title(\"Q-learning on toy maze\")\n",
    "plt.xlabel('Number of episodes')\n",
    "plt.ylabel('Average path length of 10 runs')\n",
    "plt.plot(x.tolist(), y.tolist())\n",
    "#plt.ylim(0, np.max(y) * 1.1)\n"
   ]
  }
 ],
 "metadata": {
  "kernelspec": {
   "display_name": "Python 3",
   "language": "python",
   "name": "python3"
  },
  "language_info": {
   "codemirror_mode": {
    "name": "ipython",
    "version": 3
   },
   "file_extension": ".py",
   "mimetype": "text/x-python",
   "name": "python",
   "nbconvert_exporter": "python",
   "pygments_lexer": "ipython3",
   "version": "3.10.10"
  },
  "orig_nbformat": 4,
  "vscode": {
   "interpreter": {
    "hash": "767d51c1340bd893661ea55ea3124f6de3c7a262a8b4abca0554b478b1e2ff90"
   }
  }
 },
 "nbformat": 4,
 "nbformat_minor": 2
}
