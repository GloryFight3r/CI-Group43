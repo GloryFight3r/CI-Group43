{
 "cells": [
  {
   "cell_type": "code",
   "execution_count": 1,
   "metadata": {},
   "outputs": [],
   "source": [
    "from NeuralNetwork import Perceptron, ANN\n"
   ]
  },
  {
   "cell_type": "code",
   "execution_count": 4,
   "metadata": {},
   "outputs": [
    {
     "name": "stdout",
     "output_type": "stream",
     "text": [
      "0.02\n",
      "[985000.4] 147000.12663597197\n",
      "1.0\n",
      "1.0\n",
      "0.0\n",
      "1.0\n"
     ]
    },
    {
     "name": "stderr",
     "output_type": "stream",
     "text": [
      "/Users/str1ct0wn3r/Documents/CI/Assignment 1/src/Functions.py:23: RuntimeWarning: overflow encountered in exp\n",
      "  return 1 / (1 + np.exp(-x))\n"
     ]
    }
   ],
   "source": [
    "import math\n",
    "import numpy as np\n",
    "from Functions import Sigmoid\n",
    "\n",
    "perceptron = Perceptron(np.array([0.01],  dtype = 'f'), 0.02, Sigmoid)\n",
    "\n",
    "inputs = np.array([0], dtype = 'f'), np.array([5], dtype = 'f'), np.array([-5], dtype = 'f'), np.array([10], dtype = 'f')\n",
    "outputs = np.array([0, 25, 25, 100], dtype = 'f')\n",
    "\n",
    "print(perceptron.b)\n",
    "\n",
    "for i in range(10000):\n",
    "    for i in range(4):\n",
    "        perceptron.update(perceptron.compute_loss(perceptron.forward(inputs[i]), outputs[i]), 0.1)\n",
    "\n",
    "print(perceptron.w, perceptron.b)\n",
    "\n",
    "for i in range(4):\n",
    "    print(perceptron.forward(inputs[i]))\n"
   ]
  },
  {
   "cell_type": "markdown",
   "metadata": {},
   "source": []
  },
  {
   "cell_type": "code",
   "execution_count": 3,
   "metadata": {},
   "outputs": [
    {
     "name": "stdout",
     "output_type": "stream",
     "text": [
      "[5.15451477 5.08958744] -2.3017356082218536\n",
      "[0.09097932]\n",
      "[0.94201582]\n",
      "[0.94546216]\n",
      "[0.99964476]\n"
     ]
    }
   ],
   "source": [
    "import numpy as np\n",
    "from NeuralNetwork import Perceptron, ANN\n",
    "\n",
    "ann = ANN(2, [1])\n",
    "\n",
    "inputs = np.array([0, 0], dtype = 'f'), np.array([0, 1], dtype = 'f'), np.array([1, 0], dtype = 'f'), np.array([1, 1], dtype = 'f')\n",
    "outputs = np.array([0, 1, 1, 1], dtype = 'f')\n",
    "\n",
    "for i in range(10000):\n",
    "    for i in range(4):      \n",
    "        ann.predict(inputs[i])\n",
    "        ann.back_propagate(inputs[i], np.array([outputs[i]]))\n",
    "        ann.flush_derivatives(1, 0.01)\n",
    "    \n",
    "\n",
    "print(ann.layers[0].perceptrons[0].w, ann.layers[0].perceptrons[0].b)\n",
    "for i in range(4):\n",
    "    print(ann.predict(inputs[i]))"
   ]
  },
  {
   "cell_type": "code",
   "execution_count": 5,
   "metadata": {},
   "outputs": [
    {
     "name": "stdout",
     "output_type": "stream",
     "text": [
      "[0.2916006  0.28739082 0.65254134]\n"
     ]
    }
   ],
   "source": [
    "print(np.random.rand(3))"
   ]
  },
  {
   "cell_type": "code",
   "execution_count": 1,
   "metadata": {},
   "outputs": [
    {
     "name": "stdout",
     "output_type": "stream",
     "text": [
      "[0.03042574]\n",
      "[0.65709738]\n",
      "[0.65688628]\n",
      "[0.65898844]\n"
     ]
    }
   ],
   "source": [
    "import numpy as np\n",
    "from NeuralNetwork import Perceptron, ANN\n",
    "\n",
    "ann = ANN(2, [2, 1])\n",
    "\n",
    "inputs = np.array([0, 0], dtype = 'f'), np.array([0, 1], dtype = 'f'), np.array([1, 0], dtype = 'f'), np.array([1, 1], dtype = 'f')\n",
    "outputs = np.array([0, 1, 1, 0], dtype = 'f')\n",
    "\n",
    "for i in range(10000):\n",
    "    for i in range(4):      \n",
    "        ann.predict(inputs[i])\n",
    "        ann.back_propagate(inputs[i], np.array([outputs[i]]))\n",
    "        ann.flush_derivatives(1, 0.1)\n",
    "    \n",
    "\n",
    "for i in range(4):\n",
    "    print(ann.predict(inputs[i]))"
   ]
  },
  {
   "cell_type": "code",
   "execution_count": 7,
   "metadata": {},
   "outputs": [
    {
     "name": "stdout",
     "output_type": "stream",
     "text": [
      "[0.00457232]\n",
      "[0.02294025]\n",
      "[0.04092301]\n",
      "[0.9606617]\n"
     ]
    }
   ],
   "source": [
    "import numpy as np\n",
    "from NeuralNetwork import Perceptron, ANN\n",
    "\n",
    "ann = ANN(2, [2, 1], 0.01)\n",
    "\n",
    "inputs = np.array([0, 0], dtype = 'f'), np.array([0, 1], dtype = 'f'), np.array([1, 0], dtype = 'f'), np.array([1, 1], dtype = 'f')\n",
    "outputs = np.array([0, 0, 0, 1], dtype = 'f')\n",
    "\n",
    "for i in range(100000):\n",
    "    for j in range(4):      \n",
    "        ann.predict(inputs[j])\n",
    "        ann.back_propagate(inputs[j], np.array([outputs[j]]))\n",
    "    ann.flush_derivatives(4)\n",
    "    \n",
    "\n",
    "for i in range(4):\n",
    "    print(ann.predict(inputs[i]))"
   ]
  },
  {
   "cell_type": "code",
   "execution_count": 2,
   "metadata": {},
   "outputs": [
    {
     "name": "stdout",
     "output_type": "stream",
     "text": [
      "[0.99999967]\n",
      "[0.99999974]\n",
      "[0.99999943]\n",
      "[0.99999976]\n"
     ]
    }
   ],
   "source": [
    "import numpy as np\n",
    "from NeuralNetwork import Perceptron, ANN\n",
    "\n",
    "ann = ANN(1, [3, 3, 1])\n",
    "\n",
    "inputs = np.array([0], dtype = 'f'), np.array([5], dtype = 'f'), np.array([-5], dtype = 'f'), np.array([10], dtype = 'f')\n",
    "outputs = np.array([0, 25, 25, 100], dtype = 'f')\n",
    "\n",
    "for i in range(10000):\n",
    "    for i in range(4):      \n",
    "        ann.predict(inputs[i])\n",
    "        ann.back_propagate(inputs[i], np.array([outputs[i]]))\n",
    "        ann.flush_derivatives(1, 0.1)\n",
    "    \n",
    "\n",
    "for i in range(4):\n",
    "    print(ann.predict(inputs[i]))"
   ]
  },
  {
   "cell_type": "code",
   "execution_count": 10,
   "metadata": {},
   "outputs": [
    {
     "name": "stdout",
     "output_type": "stream",
     "text": [
      "[0.40440499]\n",
      "[0.54522399]\n",
      "[0.53116906]\n",
      "[0.57318626]\n"
     ]
    }
   ],
   "source": [
    "import numpy as np\n",
    "from NeuralNetwork import ANN\n",
    "\n",
    "ann = ANN(2, [2, 1], 0.01)\n",
    "\n",
    "X = np.array([0, 0], dtype = 'f'), np.array([0, 1], dtype = 'f'), np.array([1, 0], dtype = 'f'), np.array([1, 1], dtype = 'f')\n",
    "Y = np.array([np.array([0]), np.array([1]), np.array([1]), np.array([0])], dtype = 'f')\n",
    "\n",
    "for i in range(40000):\n",
    "    ann.fit(X, Y)\n",
    "\n",
    "for i in range(4):\n",
    "    print(ann.predict(X[i]))"
   ]
  },
  {
   "cell_type": "code",
   "execution_count": 1,
   "metadata": {},
   "outputs": [
    {
     "ename": "ImportError",
     "evalue": "cannot import name 'createData' from 'DataSplit' (/Users/str1ct0wn3r/Documents/CI/Assignment 1/src/DataSplit.py)",
     "output_type": "error",
     "traceback": [
      "\u001b[0;31m---------------------------------------------------------------------------\u001b[0m",
      "\u001b[0;31mImportError\u001b[0m                               Traceback (most recent call last)",
      "Cell \u001b[0;32mIn[1], line 1\u001b[0m\n\u001b[0;32m----> 1\u001b[0m \u001b[39mfrom\u001b[39;00m \u001b[39mDataSplit\u001b[39;00m \u001b[39mimport\u001b[39;00m createData\n",
      "\u001b[0;31mImportError\u001b[0m: cannot import name 'createData' from 'DataSplit' (/Users/str1ct0wn3r/Documents/CI/Assignment 1/src/DataSplit.py)"
     ]
    }
   ],
   "source": [
    "from DataSplit import DataSet\n",
    "\n",
    "features = np.genfromtxt(\"\", delimiter=\",\")\n",
    "targets = np.genfromtxt(targets, delimiter=\",\")\n",
    "\n",
    "\n",
    "DataSet()"
   ]
  }
 ],
 "metadata": {
  "kernelspec": {
   "display_name": "Python 3",
   "language": "python",
   "name": "python3"
  },
  "language_info": {
   "codemirror_mode": {
    "name": "ipython",
    "version": 3
   },
   "file_extension": ".py",
   "mimetype": "text/x-python",
   "name": "python",
   "nbconvert_exporter": "python",
   "pygments_lexer": "ipython3",
   "version": "3.10.9"
  },
  "orig_nbformat": 4,
  "vscode": {
   "interpreter": {
    "hash": "b0fa6594d8f4cbf19f97940f81e996739fb7646882a419484c72d19e05852a7e"
   }
  }
 },
 "nbformat": 4,
 "nbformat_minor": 2
}
