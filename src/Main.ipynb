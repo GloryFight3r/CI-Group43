{
 "cells": [
  {
   "cell_type": "code",
   "execution_count": 6,
   "metadata": {},
   "outputs": [],
   "source": [
    "from NeuralNetwork import Perceptron, ANN"
   ]
  },
  {
   "cell_type": "code",
   "execution_count": 16,
   "metadata": {},
   "outputs": [],
   "source": [
    "import math\n",
    "import numpy as np\n",
    "\n",
    "perceptron = Perceptron(np.array([0, 0]), np.array([0, 0]), lambda x : 1 / (1 + np.exp(np.sum(x))))"
   ]
  },
  {
   "cell_type": "code",
   "execution_count": 23,
   "metadata": {},
   "outputs": [
    {
     "ename": "UFuncTypeError",
     "evalue": "Cannot cast ufunc 'add' output from dtype('float64') to dtype('int64') with casting rule 'same_kind'",
     "output_type": "error",
     "traceback": [
      "\u001b[0;31m---------------------------------------------------------------------------\u001b[0m",
      "\u001b[0;31mUFuncTypeError\u001b[0m                            Traceback (most recent call last)",
      "Cell \u001b[0;32mIn[23], line 5\u001b[0m\n\u001b[1;32m      2\u001b[0m outputs \u001b[39m=\u001b[39m np\u001b[39m.\u001b[39marray([\u001b[39m0.0\u001b[39m, \u001b[39m0.0\u001b[39m, \u001b[39m0.0\u001b[39m, \u001b[39m1.0\u001b[39m])\n\u001b[1;32m      4\u001b[0m \u001b[39mfor\u001b[39;00m i \u001b[39min\u001b[39;00m \u001b[39mrange\u001b[39m(\u001b[39m4\u001b[39m):\n\u001b[0;32m----> 5\u001b[0m     perceptron\u001b[39m.\u001b[39;49mupdate(perceptron\u001b[39m.\u001b[39;49mcompute_loss(perceptron\u001b[39m.\u001b[39;49mforward(inputs[i]), outputs[i]), \u001b[39m0.01\u001b[39;49m)\n",
      "File \u001b[0;32m~/Documents/CI/Assignment 1/src/NeuralNetwork.py:22\u001b[0m, in \u001b[0;36mPerceptron.update\u001b[0;34m(self, loss, alpha)\u001b[0m\n\u001b[1;32m     21\u001b[0m \u001b[39mdef\u001b[39;00m \u001b[39mupdate\u001b[39m(\u001b[39mself\u001b[39m, loss, alpha):\n\u001b[0;32m---> 22\u001b[0m     \u001b[39mself\u001b[39m\u001b[39m.\u001b[39mw \u001b[39m+\u001b[39m\u001b[39m=\u001b[39m alpha \u001b[39m*\u001b[39m loss \u001b[39m*\u001b[39m \u001b[39mself\u001b[39m\u001b[39m.\u001b[39mx\n\u001b[1;32m     23\u001b[0m     \u001b[39mself\u001b[39m\u001b[39m.\u001b[39mb \u001b[39m+\u001b[39m\u001b[39m=\u001b[39m alpha \u001b[39m*\u001b[39m loss\n\u001b[1;32m     24\u001b[0m     \u001b[39mreturn\u001b[39;00m\n",
      "\u001b[0;31mUFuncTypeError\u001b[0m: Cannot cast ufunc 'add' output from dtype('float64') to dtype('int64') with casting rule 'same_kind'"
     ]
    }
   ],
   "source": [
    "inputs = [np.array([0.0, 0.0]), np.array([0.0, 1.0]), np.array([1.0, 0.0]), np.array([1.0, 1.0])]\n",
    "outputs = np.array([0.0, 0.0, 0.0, 1.0])\n",
    "\n",
    "for i in range(4):\n",
    "    perceptron.update(perceptron.compute_loss(perceptron.forward(inputs[i]), outputs[i]), 0.01)"
   ]
  }
 ],
 "metadata": {
  "kernelspec": {
   "display_name": "Python 3",
   "language": "python",
   "name": "python3"
  },
  "language_info": {
   "codemirror_mode": {
    "name": "ipython",
    "version": 3
   },
   "file_extension": ".py",
   "mimetype": "text/x-python",
   "name": "python",
   "nbconvert_exporter": "python",
   "pygments_lexer": "ipython3",
   "version": "3.10.9"
  },
  "orig_nbformat": 4,
  "vscode": {
   "interpreter": {
    "hash": "b0fa6594d8f4cbf19f97940f81e996739fb7646882a419484c72d19e05852a7e"
   }
  }
 },
 "nbformat": 4,
 "nbformat_minor": 2
}
