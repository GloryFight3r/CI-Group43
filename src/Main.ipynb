{
 "cells": [
  {
   "cell_type": "code",
   "execution_count": 3,
   "metadata": {},
   "outputs": [
    {
     "ename": "NameError",
     "evalue": "name 'TypedDict' is not defined",
     "output_type": "error",
     "traceback": [
      "\u001b[0;31m---------------------------------------------------------------------------\u001b[0m",
      "\u001b[0;31mNameError\u001b[0m                                 Traceback (most recent call last)",
      "\u001b[1;32m/home/yk/Coding/ci/group-43/src/Main.ipynb Cell 1\u001b[0m in \u001b[0;36m<cell line: 1>\u001b[0;34m()\u001b[0m\n\u001b[0;32m----> <a href='vscode-notebook-cell:/home/yk/Coding/ci/group-43/src/Main.ipynb#X26sZmlsZQ%3D%3D?line=0'>1</a>\u001b[0m \u001b[39mfrom\u001b[39;00m \u001b[39mNeuralNetwork\u001b[39;00m \u001b[39mimport\u001b[39;00m Perceptron, ANN\n",
      "File \u001b[0;32m~/Coding/ci/group-43/src/NeuralNetwork.py:200\u001b[0m, in \u001b[0;36m<module>\u001b[0;34m\u001b[0m\n\u001b[1;32m    196\u001b[0m         result[\u001b[39m-\u001b[39m\u001b[39m1\u001b[39m][target] \u001b[39m=\u001b[39m \u001b[39m1\u001b[39m\n\u001b[1;32m    197\u001b[0m     \u001b[39mreturn\u001b[39;00m np\u001b[39m.\u001b[39masarray(result)\n\u001b[0;32m--> 200\u001b[0m \u001b[39mclass\u001b[39;00m \u001b[39mHistoryDict\u001b[39;00m(TypedDict):\n\u001b[1;32m    201\u001b[0m     loss: List[\u001b[39mfloat\u001b[39m]\n\u001b[1;32m    202\u001b[0m     acc: List[\u001b[39mfloat\u001b[39m]\n",
      "\u001b[0;31mNameError\u001b[0m: name 'TypedDict' is not defined"
     ]
    }
   ],
   "source": [
    "from NeuralNetwork import Perceptron, ANN\n"
   ]
  },
  {
   "cell_type": "code",
   "execution_count": null,
   "metadata": {},
   "outputs": [
    {
     "name": "stdout",
     "output_type": "stream",
     "text": [
      "0.02\n",
      "[985000.4] 147000.12663597197\n",
      "1.0\n",
      "1.0\n",
      "0.0\n",
      "1.0\n"
     ]
    },
    {
     "name": "stderr",
     "output_type": "stream",
     "text": [
      "/Users/str1ct0wn3r/Documents/CI/Assignment 1/src/Functions.py:23: RuntimeWarning: overflow encountered in exp\n",
      "  return 1 / (1 + np.exp(-x))\n"
     ]
    },
    {
     "ename": "",
     "evalue": "",
     "output_type": "error",
     "traceback": [
      "\u001b[1;31mnotebook controller is DISPOSED. \n",
      "\u001b[1;31mView Jupyter <a href='command:jupyter.viewOutput'>log</a> for further details."
     ]
    }
   ],
   "source": [
    "import math\n",
    "import numpy as np\n",
    "from Functions import Sigmoid\n",
    "\n",
    "perceptron = Perceptron(np.array([0.01],  dtype = 'f'), 0.02, Sigmoid)\n",
    "\n",
    "inputs = np.array([0], dtype = 'f'), np.array([5], dtype = 'f'), np.array([-5], dtype = 'f'), np.array([10], dtype = 'f')\n",
    "outputs = np.array([0, 25, 25, 100], dtype = 'f')\n",
    "\n",
    "print(perceptron.b)\n",
    "\n",
    "for i in range(10000):\n",
    "    for i in range(4):\n",
    "        perceptron.update(perceptron.compute_loss(perceptron.forward(inputs[i]), outputs[i]), 0.1)\n",
    "\n",
    "print(perceptron.w, perceptron.b)\n",
    "\n",
    "for i in range(4):\n",
    "    print(perceptron.forward(inputs[i]))\n"
   ]
  },
  {
   "cell_type": "markdown",
   "metadata": {},
   "source": []
  },
  {
   "cell_type": "code",
   "execution_count": null,
   "metadata": {},
   "outputs": [
    {
     "name": "stdout",
     "output_type": "stream",
     "text": [
      "[5.26160577 4.99728583] -2.2982892206857533\n",
      "[0.09126475]\n",
      "[0.93696741]\n",
      "[0.95088911]\n",
      "[0.99965118]\n"
     ]
    },
    {
     "ename": "",
     "evalue": "",
     "output_type": "error",
     "traceback": [
      "\u001b[1;31mnotebook controller is DISPOSED. \n",
      "\u001b[1;31mView Jupyter <a href='command:jupyter.viewOutput'>log</a> for further details."
     ]
    }
   ],
   "source": [
    "import numpy as np\n",
    "from NeuralNetwork import Perceptron, ANN\n",
    "\n",
    "ann = ANN(2, [1])\n",
    "\n",
    "inputs = np.array([0, 0], dtype = 'f'), np.array([0, 1], dtype = 'f'), np.array([1, 0], dtype = 'f'), np.array([1, 1], dtype = 'f')\n",
    "outputs = np.array([0, 1, 1, 1], dtype = 'f')\n",
    "\n",
    "for i in range(10000):\n",
    "    for i in range(4):      \n",
    "        ann.predict(inputs[i])\n",
    "        ann.back_propagate(inputs[i], np.array([outputs[i]]))\n",
    "        ann.flush_derivatives(1, 0.01)\n",
    "    \n",
    "\n",
    "print(ann.layers[0].perceptrons[0].w, ann.layers[0].perceptrons[0].b)\n",
    "for i in range(4):\n",
    "    print(ann.predict(inputs[i]))"
   ]
  },
  {
   "cell_type": "code",
   "execution_count": null,
   "metadata": {},
   "outputs": [
    {
     "name": "stdout",
     "output_type": "stream",
     "text": [
      "[0.2916006  0.28739082 0.65254134]\n"
     ]
    },
    {
     "ename": "",
     "evalue": "",
     "output_type": "error",
     "traceback": [
      "\u001b[1;31mnotebook controller is DISPOSED. \n",
      "\u001b[1;31mView Jupyter <a href='command:jupyter.viewOutput'>log</a> for further details."
     ]
    }
   ],
   "source": [
    "print(np.random.rand(3))"
   ]
  },
  {
   "cell_type": "code",
   "execution_count": null,
   "metadata": {},
   "outputs": [
    {
     "name": "stdout",
     "output_type": "stream",
     "text": [
      "[0.02543912]\n",
      "[0.97574704]\n",
      "[0.97196205]\n",
      "[0.034998]\n"
     ]
    },
    {
     "ename": "",
     "evalue": "",
     "output_type": "error",
     "traceback": [
      "\u001b[1;31mnotebook controller is DISPOSED. \n",
      "\u001b[1;31mView Jupyter <a href='command:jupyter.viewOutput'>log</a> for further details."
     ]
    }
   ],
   "source": [
    "import numpy as np\n",
    "from NeuralNetwork import Perceptron, ANN\n",
    "\n",
    "ann = ANN(2, [2, 1])\n",
    "\n",
    "inputs = np.array([0, 0], dtype = 'f'), np.array([0, 1], dtype = 'f'), np.array([1, 0], dtype = 'f'), np.array([1, 1], dtype = 'f')\n",
    "outputs = np.array([0, 1, 1, 0], dtype = 'f')\n",
    "\n",
    "for i in range(10000):\n",
    "    for i in range(4):      \n",
    "        ann.predict(inputs[i])\n",
    "        ann.back_propagate(inputs[i], np.array([outputs[i]]))\n",
    "        ann.flush_derivatives(1, 0.1)\n",
    "    \n",
    "\n",
    "for i in range(4):\n",
    "    print(ann.predict(inputs[i]))"
   ]
  },
  {
   "cell_type": "code",
   "execution_count": null,
   "metadata": {},
   "outputs": [
    {
     "name": "stdout",
     "output_type": "stream",
     "text": [
      "[0.00194404]\n",
      "[0.01611247]\n",
      "[0.01103317]\n",
      "[0.98410554]\n"
     ]
    },
    {
     "ename": "",
     "evalue": "",
     "output_type": "error",
     "traceback": [
      "\u001b[1;31mnotebook controller is DISPOSED. \n",
      "\u001b[1;31mView Jupyter <a href='command:jupyter.viewOutput'>log</a> for further details."
     ]
    }
   ],
   "source": [
    "import numpy as np\n",
    "from NeuralNetwork import Perceptron, ANN\n",
    "\n",
    "ann = ANN(2, [2, 1])\n",
    "\n",
    "inputs = np.array([0, 0], dtype = 'f'), np.array([0, 1], dtype = 'f'), np.array([1, 0], dtype = 'f'), np.array([1, 1], dtype = 'f')\n",
    "outputs = np.array([0, 0, 0, 1], dtype = 'f')\n",
    "\n",
    "for i in range(10000):\n",
    "    for i in range(4):      \n",
    "        ann.predict(inputs[i])\n",
    "        ann.back_propagate(inputs[i], np.array([outputs[i]]))\n",
    "        ann.flush_derivatives(1, 0.1)\n",
    "    \n",
    "\n",
    "for i in range(4):\n",
    "    print(ann.predict(inputs[i]))"
   ]
  },
  {
   "cell_type": "code",
   "execution_count": null,
   "metadata": {},
   "outputs": [
    {
     "name": "stdout",
     "output_type": "stream",
     "text": [
      "[0.99999967]\n",
      "[0.99999974]\n",
      "[0.99999943]\n",
      "[0.99999976]\n"
     ]
    },
    {
     "ename": "",
     "evalue": "",
     "output_type": "error",
     "traceback": [
      "\u001b[1;31mnotebook controller is DISPOSED. \n",
      "\u001b[1;31mView Jupyter <a href='command:jupyter.viewOutput'>log</a> for further details."
     ]
    }
   ],
   "source": [
    "import numpy as np\n",
    "from NeuralNetwork import Perceptron, ANN\n",
    "\n",
    "ann = ANN(1, [3, 3, 1])\n",
    "\n",
    "inputs = np.array([0], dtype = 'f'), np.array([5], dtype = 'f'), np.array([-5], dtype = 'f'), np.array([10], dtype = 'f')\n",
    "outputs = np.array([0, 25, 25, 100], dtype = 'f')\n",
    "\n",
    "for i in range(10000):\n",
    "    for i in range(4):      \n",
    "        ann.predict(inputs[i])\n",
    "        ann.back_propagate(inputs[i], np.array([outputs[i]]))\n",
    "        ann.flush_derivatives(1, 0.1)\n",
    "    \n",
    "\n",
    "for i in range(4):\n",
    "    print(ann.predict(inputs[i]))"
   ]
  },
  {
   "cell_type": "code",
   "execution_count": 3,
   "metadata": {},
   "outputs": [
    {
     "name": "stdout",
     "output_type": "stream",
     "text": [
      "(7068, 10)\n",
      "(7068,)\n",
      "1.0\n",
      "5.563228832537441\n",
      "5.371804781080497\n",
      "4.997982084217999\n",
      "4.4985178104972565\n",
      "3.65278034275103\n",
      "3.0158172435905732\n",
      "2.1044962971517682\n",
      "1.6004160797930653\n",
      "1.2562977256332921\n",
      "1.0381730148955577\n",
      "0.9251841005268558\n",
      "0.9089985169232525\n",
      "0.8833709904420021\n",
      "0.8733280494288358\n",
      "0.8673193919680753\n",
      "0.8626002608855999\n",
      "0.864731998574409\n",
      "0.8593358311513805\n",
      "0.859274221565259\n",
      "0.8620712220183352\n",
      "0.8577287926895302\n",
      "0.8578821573607894\n",
      "0.8579399941240519\n",
      "0.8574679762894071\n",
      "0.857260662753422\n",
      "0.8577390211478338\n",
      "0.8580304826334046\n",
      "0.8578947643367123\n",
      "0.857156306886016\n"
     ]
    }
   ],
   "source": [
    "import numpy as np\n",
    "from NeuralNetwork import Perceptron, ANN\n",
    "from DataSplit import DataSplit\n",
    "\n",
    "inputs = np.array([0, 0], dtype = 'f'), np.array([0, 1], dtype = 'f'), np.array([1, 0], dtype = 'f'), np.array([1, 1], dtype = 'f')\n",
    "outputs = np.array([0, 0, 0, 1], dtype = 'f')\n",
    "\n",
    "train_in, train_out, val_in, val_out, test_in, test_out = DataSplit().createData(0.1, 0)\n",
    "num_classes = 7\n",
    "batch_size = 2\n",
    "epochs = 30\n",
    "ann = ANN(train_in.shape[1], [7, num_classes], learning_rate=0.1)\n",
    "\n",
    "print(train_in.shape)\n",
    "print(train_out.shape)\n",
    "res = ann.fit(train_in, train_out, val_in, val_out, batch_size, num_classes, epochs)\n",
    "    "
   ]
  },
  {
   "cell_type": "code",
   "execution_count": 6,
   "metadata": {},
   "outputs": [
    {
     "name": "stdout",
     "output_type": "stream",
     "text": [
      "[<NeuralNetwork.HistoryDict object at 0x7f202e85eda0>, <NeuralNetwork.HistoryDict object at 0x7f202ea20d30>, <NeuralNetwork.HistoryDict object at 0x7f202ea20370>, <NeuralNetwork.HistoryDict object at 0x7f202ea20400>, <NeuralNetwork.HistoryDict object at 0x7f202ea203a0>, <NeuralNetwork.HistoryDict object at 0x7f202ea20bb0>, <NeuralNetwork.HistoryDict object at 0x7f202ea20d60>, <NeuralNetwork.HistoryDict object at 0x7f202ea21510>, <NeuralNetwork.HistoryDict object at 0x7f202ea21750>, <NeuralNetwork.HistoryDict object at 0x7f202ea214b0>, <NeuralNetwork.HistoryDict object at 0x7f202ea21600>, <NeuralNetwork.HistoryDict object at 0x7f202ea20d00>, <NeuralNetwork.HistoryDict object at 0x7f202ea217b0>, <NeuralNetwork.HistoryDict object at 0x7f202ea216c0>, <NeuralNetwork.HistoryDict object at 0x7f202e9700a0>, <NeuralNetwork.HistoryDict object at 0x7f205a6c79d0>, <NeuralNetwork.HistoryDict object at 0x7f202ea21720>, <NeuralNetwork.HistoryDict object at 0x7f202ea215a0>, <NeuralNetwork.HistoryDict object at 0x7f20704e9e70>, <NeuralNetwork.HistoryDict object at 0x7f202ea213f0>, <NeuralNetwork.HistoryDict object at 0x7f202ebdcac0>, <NeuralNetwork.HistoryDict object at 0x7f20704ea0e0>, <NeuralNetwork.HistoryDict object at 0x7f202ebdc5e0>, <NeuralNetwork.HistoryDict object at 0x7f20704ea140>, <NeuralNetwork.HistoryDict object at 0x7f202ea21630>, <NeuralNetwork.HistoryDict object at 0x7f202ea21120>, <NeuralNetwork.HistoryDict object at 0x7f202e9a1e10>, <NeuralNetwork.HistoryDict object at 0x7f202e9a0280>, <NeuralNetwork.HistoryDict object at 0x7f202ea5a770>, <NeuralNetwork.HistoryDict object at 0x7f202ea59e10>]\n"
     ]
    },
    {
     "data": {
      "image/png": "[encoded data removed]",
      "text/plain": [
       "<Figure size 432x288 with 1 Axes>"
      ]
     },
     "metadata": {
      "needs_background": "light"
     },
     "output_type": "display_data"
    }
   ],
   "source": [
    "import matplotlib.pyplot as plt \n",
    "\n",
    "print(res)\n",
    "\n",
    "def plot_history(res) -> None:\n",
    "\tplt.suptitle(\"title\", fontsize=14)\n",
    "\tax1 = plt.subplot(121)\n",
    "\tax1.set_title(\"Loss\")\n",
    "\tresult_mapped = list(map(lambda x: x.acc, res))\n",
    "\tax1.plot(result_mapped, label=\"train\")\n",
    "\tplt.xlabel(\"Epoch\")\n",
    "\tax1.legend()\n",
    "plot_history(res)"
   ]
  }
 ],
 "metadata": {
  "kernelspec": {
   "display_name": "Python 3",
   "language": "python",
   "name": "python3"
  },
  "language_info": {
   "codemirror_mode": {
    "name": "ipython",
    "version": 3
   },
   "file_extension": ".py",
   "mimetype": "text/x-python",
   "name": "python",
   "nbconvert_exporter": "python",
   "pygments_lexer": "ipython3",
   "version": "3.10.9"
  },
  "orig_nbformat": 4,
  "vscode": {
   "interpreter": {
    "hash": "b0fa6594d8f4cbf19f97940f81e996739fb7646882a419484c72d19e05852a7e"
   }
  }
 },
 "nbformat": 4,
 "nbformat_minor": 2
}
