{
 "cells": [
  {
   "cell_type": "code",
   "execution_count": 1,
   "metadata": {},
   "outputs": [],
   "source": [
    "from NeuralNetwork import Perceptron, ANN\n"
   ]
  },
  {
   "cell_type": "code",
   "execution_count": 4,
   "metadata": {},
   "outputs": [
    {
     "name": "stdout",
     "output_type": "stream",
     "text": [
      "0.02\n",
      "[985000.4] 147000.12663597197\n",
      "1.0\n",
      "1.0\n",
      "0.0\n",
      "1.0\n"
     ]
    },
    {
     "name": "stderr",
     "output_type": "stream",
     "text": [
      "/Users/str1ct0wn3r/Documents/CI/Assignment 1/src/Functions.py:23: RuntimeWarning: overflow encountered in exp\n",
      "  return 1 / (1 + np.exp(-x))\n"
     ]
    }
   ],
   "source": [
    "import math\n",
    "import numpy as np\n",
    "from Functions import Sigmoid\n",
    "\n",
    "perceptron = Perceptron(np.array([0.01],  dtype = 'f'), 0.02, Sigmoid)\n",
    "\n",
    "inputs = np.array([0], dtype = 'f'), np.array([5], dtype = 'f'), np.array([-5], dtype = 'f'), np.array([10], dtype = 'f')\n",
    "outputs = np.array([0, 25, 25, 100], dtype = 'f')\n",
    "\n",
    "print(perceptron.b)\n",
    "\n",
    "for i in range(10000):\n",
    "    for i in range(4):\n",
    "        perceptron.update(perceptron.compute_loss(perceptron.forward(inputs[i]), outputs[i]), 0.1)\n",
    "\n",
    "print(perceptron.w, perceptron.b)\n",
    "\n",
    "for i in range(4):\n",
    "    print(perceptron.forward(inputs[i]))\n"
   ]
  },
  {
   "cell_type": "markdown",
   "metadata": {},
   "source": []
  },
  {
   "cell_type": "code",
   "execution_count": 1,
   "metadata": {},
   "outputs": [
    {
     "name": "stdout",
     "output_type": "stream",
     "text": [
      "[5.26160577 4.99728583] -2.2982892206857533\n",
      "[0.09126475]\n",
      "[0.93696741]\n",
      "[0.95088911]\n",
      "[0.99965118]\n"
     ]
    }
   ],
   "source": [
    "import numpy as np\n",
    "from NeuralNetwork import Perceptron, ANN\n",
    "\n",
    "ann = ANN(2, [1])\n",
    "\n",
    "inputs = np.array([0, 0], dtype = 'f'), np.array([0, 1], dtype = 'f'), np.array([1, 0], dtype = 'f'), np.array([1, 1], dtype = 'f')\n",
    "outputs = np.array([0, 1, 1, 1], dtype = 'f')\n",
    "\n",
    "for i in range(10000):\n",
    "    for i in range(4):      \n",
    "        ann.predict(inputs[i])\n",
    "        ann.back_propagate(inputs[i], np.array([outputs[i]]))\n",
    "        ann.flush_derivatives(1, 0.01)\n",
    "    \n",
    "\n",
    "print(ann.layers[0].perceptrons[0].w, ann.layers[0].perceptrons[0].b)\n",
    "for i in range(4):\n",
    "    print(ann.predict(inputs[i]))"
   ]
  },
  {
   "cell_type": "code",
   "execution_count": 5,
   "metadata": {},
   "outputs": [
    {
     "name": "stdout",
     "output_type": "stream",
     "text": [
      "[0.2916006  0.28739082 0.65254134]\n"
     ]
    }
   ],
   "source": [
    "print(np.random.rand(3))"
   ]
  },
  {
   "cell_type": "code",
   "execution_count": 1,
   "metadata": {},
   "outputs": [
    {
     "name": "stdout",
     "output_type": "stream",
     "text": [
      "[0.02543912]\n",
      "[0.97574704]\n",
      "[0.97196205]\n",
      "[0.034998]\n"
     ]
    }
   ],
   "source": [
    "import numpy as np\n",
    "from NeuralNetwork import Perceptron, ANN\n",
    "\n",
    "ann = ANN(2, [2, 1])\n",
    "\n",
    "inputs = np.array([0, 0], dtype = 'f'), np.array([0, 1], dtype = 'f'), np.array([1, 0], dtype = 'f'), np.array([1, 1], dtype = 'f')\n",
    "outputs = np.array([0, 1, 1, 0], dtype = 'f')\n",
    "\n",
    "for i in range(10000):\n",
    "    for i in range(4):      \n",
    "        ann.predict(inputs[i])\n",
    "        ann.back_propagate(inputs[i], np.array([outputs[i]]))\n",
    "        ann.flush_derivatives(1, 0.1)\n",
    "    \n",
    "\n",
    "for i in range(4):\n",
    "    print(ann.predict(inputs[i]))"
   ]
  },
  {
   "cell_type": "code",
   "execution_count": 3,
   "metadata": {},
   "outputs": [
    {
     "name": "stdout",
     "output_type": "stream",
     "text": [
      "[0.00194404]\n",
      "[0.01611247]\n",
      "[0.01103317]\n",
      "[0.98410554]\n"
     ]
    }
   ],
   "source": [
    "import numpy as np\n",
    "from NeuralNetwork import Perceptron, ANN\n",
    "\n",
    "ann = ANN(2, [2, 1])\n",
    "\n",
    "inputs = np.array([0, 0], dtype = 'f'), np.array([0, 1], dtype = 'f'), np.array([1, 0], dtype = 'f'), np.array([1, 1], dtype = 'f')\n",
    "outputs = np.array([0, 0, 0, 1], dtype = 'f')\n",
    "\n",
    "for i in range(10000):\n",
    "    for i in range(4):      \n",
    "        ann.predict(inputs[i])\n",
    "        ann.back_propagate(inputs[i], np.array([outputs[i]]))\n",
    "        ann.flush_derivatives(1, 0.1)\n",
    "    \n",
    "\n",
    "for i in range(4):\n",
    "    print(ann.predict(inputs[i]))"
   ]
  },
  {
   "cell_type": "code",
   "execution_count": 2,
   "metadata": {},
   "outputs": [
    {
     "name": "stdout",
     "output_type": "stream",
     "text": [
      "[0.99999967]\n",
      "[0.99999974]\n",
      "[0.99999943]\n",
      "[0.99999976]\n"
     ]
    }
   ],
   "source": [
    "import numpy as np\n",
    "from NeuralNetwork import Perceptron, ANN\n",
    "\n",
    "ann = ANN(1, [3, 3, 1])\n",
    "\n",
    "inputs = np.array([0], dtype = 'f'), np.array([5], dtype = 'f'), np.array([-5], dtype = 'f'), np.array([10], dtype = 'f')\n",
    "outputs = np.array([0, 25, 25, 100], dtype = 'f')\n",
    "\n",
    "for i in range(10000):\n",
    "    for i in range(4):      \n",
    "        ann.predict(inputs[i])\n",
    "        ann.back_propagate(inputs[i], np.array([outputs[i]]))\n",
    "        ann.flush_derivatives(1, 0.1)\n",
    "    \n",
    "\n",
    "for i in range(4):\n",
    "    print(ann.predict(inputs[i]))"
   ]
  }
 ],
 "metadata": {
  "kernelspec": {
   "display_name": "Python 3",
   "language": "python",
   "name": "python3"
  },
  "language_info": {
   "codemirror_mode": {
    "name": "ipython",
    "version": 3
   },
   "file_extension": ".py",
   "mimetype": "text/x-python",
   "name": "python",
   "nbconvert_exporter": "python",
   "pygments_lexer": "ipython3",
   "version": "3.10.9"
  },
  "orig_nbformat": 4,
  "vscode": {
   "interpreter": {
    "hash": "b0fa6594d8f4cbf19f97940f81e996739fb7646882a419484c72d19e05852a7e"
   }
  }
 },
 "nbformat": 4,
 "nbformat_minor": 2
}
