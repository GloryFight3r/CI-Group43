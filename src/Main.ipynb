{
 "cells": [
  {
   "cell_type": "code",
   "execution_count": 3,
   "metadata": {},
   "outputs": [
    {
     "ename": "NameError",
     "evalue": "name 'TypedDict' is not defined",
     "output_type": "error",
     "traceback": [
      "\u001b[0;31m---------------------------------------------------------------------------\u001b[0m",
      "\u001b[0;31mNameError\u001b[0m                                 Traceback (most recent call last)",
      "\u001b[1;32m/home/yk/Coding/ci/group-43/src/Main.ipynb Cell 1\u001b[0m in \u001b[0;36m<cell line: 1>\u001b[0;34m()\u001b[0m\n\u001b[0;32m----> <a href='vscode-notebook-cell:/home/yk/Coding/ci/group-43/src/Main.ipynb#X26sZmlsZQ%3D%3D?line=0'>1</a>\u001b[0m \u001b[39mfrom\u001b[39;00m \u001b[39mNeuralNetwork\u001b[39;00m \u001b[39mimport\u001b[39;00m Perceptron, ANN\n",
      "File \u001b[0;32m~/Coding/ci/group-43/src/NeuralNetwork.py:200\u001b[0m, in \u001b[0;36m<module>\u001b[0;34m\u001b[0m\n\u001b[1;32m    196\u001b[0m         result[\u001b[39m-\u001b[39m\u001b[39m1\u001b[39m][target] \u001b[39m=\u001b[39m \u001b[39m1\u001b[39m\n\u001b[1;32m    197\u001b[0m     \u001b[39mreturn\u001b[39;00m np\u001b[39m.\u001b[39masarray(result)\n\u001b[0;32m--> 200\u001b[0m \u001b[39mclass\u001b[39;00m \u001b[39mHistoryDict\u001b[39;00m(TypedDict):\n\u001b[1;32m    201\u001b[0m     loss: List[\u001b[39mfloat\u001b[39m]\n\u001b[1;32m    202\u001b[0m     acc: List[\u001b[39mfloat\u001b[39m]\n",
      "\u001b[0;31mNameError\u001b[0m: name 'TypedDict' is not defined"
     ]
    }
   ],
   "source": [
    "from NeuralNetwork import Perceptron, ANN\n"
   ]
  },
  {
   "cell_type": "code",
   "execution_count": null,
   "metadata": {},
   "outputs": [
    {
     "name": "stdout",
     "output_type": "stream",
     "text": [
      "0.02\n",
      "[985000.4] 147000.12663597197\n",
      "1.0\n",
      "1.0\n",
      "0.0\n",
      "1.0\n"
     ]
    },
    {
     "name": "stderr",
     "output_type": "stream",
     "text": [
      "/Users/str1ct0wn3r/Documents/CI/Assignment 1/src/Functions.py:23: RuntimeWarning: overflow encountered in exp\n",
      "  return 1 / (1 + np.exp(-x))\n"
     ]
    },
    {
     "ename": "",
     "evalue": "",
     "output_type": "error",
     "traceback": [
      "\u001b[1;31mnotebook controller is DISPOSED. \n",
      "\u001b[1;31mView Jupyter <a href='command:jupyter.viewOutput'>log</a> for further details."
     ]
    }
   ],
   "source": [
    "import math\n",
    "import numpy as np\n",
    "from Functions import Sigmoid\n",
    "\n",
    "perceptron = Perceptron(np.array([0.01],  dtype = 'f'), 0.02, Sigmoid)\n",
    "\n",
    "inputs = np.array([0], dtype = 'f'), np.array([5], dtype = 'f'), np.array([-5], dtype = 'f'), np.array([10], dtype = 'f')\n",
    "outputs = np.array([0, 25, 25, 100], dtype = 'f')\n",
    "\n",
    "print(perceptron.b)\n",
    "\n",
    "for i in range(10000):\n",
    "    for i in range(4):\n",
    "        perceptron.update(perceptron.compute_loss(perceptron.forward(inputs[i]), outputs[i]), 0.1)\n",
    "\n",
    "print(perceptron.w, perceptron.b)\n",
    "\n",
    "for i in range(4):\n",
    "    print(perceptron.forward(inputs[i]))\n"
   ]
  },
  {
   "cell_type": "markdown",
   "metadata": {},
   "source": []
  },
  {
   "cell_type": "code",
   "execution_count": 3,
   "metadata": {},
   "outputs": [
    {
     "name": "stdout",
     "output_type": "stream",
     "text": [
      "[5.15451477 5.08958744] -2.3017356082218536\n",
      "[0.09097932]\n",
      "[0.94201582]\n",
      "[0.94546216]\n",
      "[0.99964476]\n"
     ]
    },
    {
     "ename": "",
     "evalue": "",
     "output_type": "error",
     "traceback": [
      "\u001b[1;31mnotebook controller is DISPOSED. \n",
      "\u001b[1;31mView Jupyter <a href='command:jupyter.viewOutput'>log</a> for further details."
     ]
    }
   ],
   "source": [
    "import numpy as np\n",
    "from NeuralNetwork import Perceptron, ANN\n",
    "\n",
    "ann = ANN(2, [1])\n",
    "\n",
    "inputs = np.array([0, 0], dtype = 'f'), np.array([0, 1], dtype = 'f'), np.array([1, 0], dtype = 'f'), np.array([1, 1], dtype = 'f')\n",
    "outputs = np.array([0, 1, 1, 1], dtype = 'f')\n",
    "\n",
    "for i in range(10000):\n",
    "    for i in range(4):      \n",
    "        ann.predict(inputs[i])\n",
    "        ann.back_propagate(inputs[i], np.array([outputs[i]]))\n",
    "        ann.flush_derivatives(1, 0.01)\n",
    "    \n",
    "\n",
    "print(ann.layers[0].perceptrons[0].w, ann.layers[0].perceptrons[0].b)\n",
    "for i in range(4):\n",
    "    print(ann.predict(inputs[i]))"
   ]
  },
  {
   "cell_type": "code",
   "execution_count": null,
   "metadata": {},
   "outputs": [
    {
     "name": "stdout",
     "output_type": "stream",
     "text": [
      "[0.2916006  0.28739082 0.65254134]\n"
     ]
    },
    {
     "ename": "",
     "evalue": "",
     "output_type": "error",
     "traceback": [
      "\u001b[1;31mnotebook controller is DISPOSED. \n",
      "\u001b[1;31mView Jupyter <a href='command:jupyter.viewOutput'>log</a> for further details."
     ]
    }
   ],
   "source": [
    "print(np.random.rand(3))"
   ]
  },
  {
   "cell_type": "code",
   "execution_count": null,
   "metadata": {},
   "outputs": [
    {
     "name": "stdout",
     "output_type": "stream",
     "text": [
      "[0.03042574]\n",
      "[0.65709738]\n",
      "[0.65688628]\n",
      "[0.65898844]\n"
     ]
    },
    {
     "ename": "",
     "evalue": "",
     "output_type": "error",
     "traceback": [
      "\u001b[1;31mnotebook controller is DISPOSED. \n",
      "\u001b[1;31mView Jupyter <a href='command:jupyter.viewOutput'>log</a> for further details."
     ]
    }
   ],
   "source": [
    "import numpy as np\n",
    "from NeuralNetwork import Perceptron, ANN\n",
    "\n",
    "ann = ANN(2, [2, 1])\n",
    "\n",
    "inputs = np.array([0, 0], dtype = 'f'), np.array([0, 1], dtype = 'f'), np.array([1, 0], dtype = 'f'), np.array([1, 1], dtype = 'f')\n",
    "outputs = np.array([0, 1, 1, 0], dtype = 'f')\n",
    "\n",
    "for i in range(10000):\n",
    "    for i in range(4):      \n",
    "        ann.predict(inputs[i])\n",
    "        ann.back_propagate(inputs[i], np.array([outputs[i]]))\n",
    "        ann.flush_derivatives(1, 0.1)\n",
    "    \n",
    "\n",
    "for i in range(4):\n",
    "    print(ann.predict(inputs[i]))"
   ]
  },
  {
   "cell_type": "code",
   "execution_count": 3,
   "metadata": {},
   "outputs": [
    {
     "ename": "TypeError",
     "evalue": "ANN.back_propagate() missing 1 required positional argument: 'actual_output'",
     "output_type": "error",
     "traceback": [
      "\u001b[0;31m---------------------------------------------------------------------------\u001b[0m",
      "\u001b[0;31mTypeError\u001b[0m                                 Traceback (most recent call last)",
      "Cell \u001b[0;32mIn[3], line 12\u001b[0m\n\u001b[1;32m     10\u001b[0m     \u001b[39mfor\u001b[39;00m j \u001b[39min\u001b[39;00m \u001b[39mrange\u001b[39m(\u001b[39m4\u001b[39m):      \n\u001b[1;32m     11\u001b[0m         ann\u001b[39m.\u001b[39mpredict(inputs[j])\n\u001b[0;32m---> 12\u001b[0m         ann\u001b[39m.\u001b[39;49mback_propagate(inputs[j], np\u001b[39m.\u001b[39;49marray([outputs[j]]))\n\u001b[1;32m     13\u001b[0m     ann\u001b[39m.\u001b[39mflush_derivatives(\u001b[39m4\u001b[39m)\n\u001b[1;32m     16\u001b[0m \u001b[39mfor\u001b[39;00m i \u001b[39min\u001b[39;00m \u001b[39mrange\u001b[39m(\u001b[39m4\u001b[39m):\n",
      "\u001b[0;31mTypeError\u001b[0m: ANN.back_propagate() missing 1 required positional argument: 'actual_output'"
     ]
    }
   ],
   "source": [
    "import numpy as np\n",
    "from NeuralNetwork import Perceptron, ANN\n",
    "\n",
    "ann = ANN(2, [2, 1], 0.01)\n",
    "\n",
    "inputs = np.array([0, 0], dtype = 'f'), np.array([0, 1], dtype = 'f'), np.array([1, 0], dtype = 'f'), np.array([1, 1], dtype = 'f')\n",
    "outputs = np.array([0, 0, 0, 1], dtype = 'f')\n",
    "\n",
    "for i in range(100000):\n",
    "    for j in range(4):      \n",
    "        ann.predict(inputs[j])\n",
    "        ann.back_propagate(inputs[j], np.array([outputs[j]]))\n",
    "    ann.flush_derivatives(4)\n",
    "    \n",
    "\n",
    "for i in range(4):\n",
    "    print(ann.predict(inputs[i]))"
   ]
  },
  {
   "cell_type": "code",
   "execution_count": null,
   "metadata": {},
   "outputs": [
    {
     "name": "stdout",
     "output_type": "stream",
     "text": [
      "[0.99999967]\n",
      "[0.99999974]\n",
      "[0.99999943]\n",
      "[0.99999976]\n"
     ]
    },
    {
     "ename": "",
     "evalue": "",
     "output_type": "error",
     "traceback": [
      "\u001b[1;31mnotebook controller is DISPOSED. \n",
      "\u001b[1;31mView Jupyter <a href='command:jupyter.viewOutput'>log</a> for further details."
     ]
    }
   ],
   "source": [
    "import numpy as np\n",
    "from NeuralNetwork import Perceptron, ANN\n",
    "\n",
    "ann = ANN(1, [3, 3, 1])\n",
    "\n",
    "inputs = np.array([0], dtype = 'f'), np.array([5], dtype = 'f'), np.array([-5], dtype = 'f'), np.array([10], dtype = 'f')\n",
    "outputs = np.array([0, 25, 25, 100], dtype = 'f')\n",
    "\n",
    "for i in range(10000):\n",
    "    for i in range(4):      \n",
    "        ann.predict(inputs[i])\n",
    "        ann.back_propagate(inputs[i], np.array([outputs[i]]))\n",
    "        ann.flush_derivatives(1, 0.1)\n",
    "    \n",
    "\n",
    "for i in range(4):\n",
    "    print(ann.predict(inputs[i]))"
   ]
  },
  {
   "cell_type": "code",
   "execution_count": 1,
   "metadata": {},
   "outputs": [
    {
     "name": "stdout",
     "output_type": "stream",
     "text": [
      "(7068, 10)\n",
      "(7068,)\n",
      "1.0\n",
      "2.771667603875713\n",
      "1.6608243129637454\n",
      "1.6772410279364567\n",
      "1.6811526295128278\n",
      "1.6771091447899718\n",
      "1.6624577220433225\n",
      "1.6253679815043978\n",
      "1.3976141929769006\n",
      "0.9768705421050429\n",
      "0.987225728833559\n",
      "0.9881585175052147\n",
      "0.9906673945047287\n",
      "0.9939519906053214\n",
      "0.9930727005177673\n",
      "0.9952297347096193\n",
      "0.9955609062056707\n",
      "0.9960510585842527\n",
      "0.9966833862523684\n",
      "0.9966645109290305\n",
      "0.9960942605887638\n",
      "0.9969756307436507\n",
      "0.9975943546263751\n",
      "0.9977557402511752\n",
      "0.997161484926603\n",
      "0.9979210647542262\n",
      "0.9976712621082929\n",
      "0.9980714613155655\n",
      "0.9982333576308395\n",
      "0.9978290196608748\n"
     ]
    }
   ],
   "source": [
    "import numpy as np\n",
    "from NeuralNetwork import Perceptron, ANN\n",
    "from DataSplit import DataSet\n",
    "\n",
    "inputs = np.array([0, 0], dtype = 'f'), np.array([0, 1], dtype = 'f'), np.array([1, 0], dtype = 'f'), np.array([1, 1], dtype = 'f')\n",
    "outputs = np.array([0, 0, 0, 1], dtype = 'f')\n",
    "\n",
    "features = np.genfromtxt(\"../data/features.txt\", delimiter=\",\")\n",
    "targets = np.genfromtxt(\"../data/targets.txt\", delimiter=\",\")\n",
    "\n",
    "\n",
    "train_in, train_out, val_in, val_out = DataSet().createData(features, targets, 0.1)\n",
    "num_classes = 7\n",
    "batch_size = 2\n",
    "epochs = 30\n",
    "ann = ANN(train_in.shape[1], [7, num_classes], learning_rate=0.1)\n",
    "\n",
    "print(train_in.shape)\n",
    "print(train_out.shape)\n",
    "res = ann.fit(train_in, train_out, val_in, val_out, batch_size, num_classes, epochs)\n",
    "    "
   ]
  },
  {
   "cell_type": "code",
   "execution_count": 2,
   "metadata": {},
   "outputs": [
    {
     "name": "stdout",
     "output_type": "stream",
     "text": [
      "[<NeuralNetwork.HistoryDict object at 0x1065f0d30>, <NeuralNetwork.HistoryDict object at 0x110791f60>, <NeuralNetwork.HistoryDict object at 0x110792050>, <NeuralNetwork.HistoryDict object at 0x110791db0>, <NeuralNetwork.HistoryDict object at 0x110792020>, <NeuralNetwork.HistoryDict object at 0x1107922c0>, <NeuralNetwork.HistoryDict object at 0x110792140>, <NeuralNetwork.HistoryDict object at 0x1107921d0>, <NeuralNetwork.HistoryDict object at 0x1107920b0>, <NeuralNetwork.HistoryDict object at 0x110792380>, <NeuralNetwork.HistoryDict object at 0x110792440>, <NeuralNetwork.HistoryDict object at 0x1107923b0>, <NeuralNetwork.HistoryDict object at 0x110792230>, <NeuralNetwork.HistoryDict object at 0x1107924d0>, <NeuralNetwork.HistoryDict object at 0x110792170>, <NeuralNetwork.HistoryDict object at 0x110792680>, <NeuralNetwork.HistoryDict object at 0x110792500>, <NeuralNetwork.HistoryDict object at 0x1107924a0>, <NeuralNetwork.HistoryDict object at 0x1107925f0>, <NeuralNetwork.HistoryDict object at 0x110792740>, <NeuralNetwork.HistoryDict object at 0x110792710>, <NeuralNetwork.HistoryDict object at 0x110792800>, <NeuralNetwork.HistoryDict object at 0x110792860>, <NeuralNetwork.HistoryDict object at 0x1107928c0>, <NeuralNetwork.HistoryDict object at 0x1107929b0>, <NeuralNetwork.HistoryDict object at 0x110792a70>, <NeuralNetwork.HistoryDict object at 0x110792650>, <NeuralNetwork.HistoryDict object at 0x110792aa0>, <NeuralNetwork.HistoryDict object at 0x1107929e0>, <NeuralNetwork.HistoryDict object at 0x110792b00>]\n"
     ]
    },
    {
     "data": {
      "image/png": "[encoded data removed]",
      "text/plain": [
       "<Figure size 640x480 with 1 Axes>"
      ]
     },
     "metadata": {},
     "output_type": "display_data"
    }
   ],
   "source": [
    "import matplotlib.pyplot as plt \n",
    "\n",
    "print(res)\n",
    "\n",
    "def plot_history(res) -> None:\n",
    "\tplt.suptitle(\"title\", fontsize=14)\n",
    "\tax1 = plt.subplot(121)\n",
    "\tax1.set_title(\"Loss\")\n",
    "\tresult_mapped = list(map(lambda x: x.acc, res))\n",
    "\tax1.plot(result_mapped, label=\"train\")\n",
    "\tplt.xlabel(\"Epoch\")\n",
    "\tax1.legend()\n",
    "plot_history(res)"
   ]
  }
 ],
 "metadata": {
  "kernelspec": {
   "display_name": "Python 3",
   "language": "python",
   "name": "python3"
  },
  "language_info": {
   "codemirror_mode": {
    "name": "ipython",
    "version": 3
   },
   "file_extension": ".py",
   "mimetype": "text/x-python",
   "name": "python",
   "nbconvert_exporter": "python",
   "pygments_lexer": "ipython3",
   "version": "3.10.9"
  },
  "orig_nbformat": 4,
  "vscode": {
   "interpreter": {
    "hash": "b0fa6594d8f4cbf19f97940f81e996739fb7646882a419484c72d19e05852a7e"
   }
  }
 },
 "nbformat": 4,
 "nbformat_minor": 2
}
